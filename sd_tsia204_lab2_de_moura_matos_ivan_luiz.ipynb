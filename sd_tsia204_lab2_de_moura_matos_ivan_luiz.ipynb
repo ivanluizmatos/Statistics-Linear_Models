{
  "cells": [
    {
      "cell_type": "markdown",
      "metadata": {
        "id": "ylKdJchf7EOJ"
      },
      "source": [
        "# **SD-TSIA-204 - Statistics: Linear Models (2022/2023)**\n",
        "## **TP 2: Linear Regression**\n",
        "\n",
        "**Name:** Ivan Luiz DE MOURA MATOS"
      ]
    },
    {
      "cell_type": "code",
      "execution_count": null,
      "metadata": {
        "id": "I7n1daCZ6AH2"
      },
      "outputs": [],
      "source": [
        "# fn1 = \"ivan luiz\"\n",
        "# ln1 = \"de moura matos\"\n",
        "# filename = \"_\".join(map(lambda s: s.strip().lower(),\n",
        "#                         [\"SD-TSIA204_lab2\", ln1, fn1])) + \".ipynb\"\n",
        "# print(filename)"
      ]
    },
    {
      "cell_type": "markdown",
      "metadata": {
        "id": "nVgq0Es3e70m"
      },
      "source": [
        "Import of necessary packages:"
      ]
    },
    {
      "cell_type": "code",
      "execution_count": null,
      "metadata": {
        "id": "gh9ydeAI6ocm"
      },
      "outputs": [],
      "source": [
        "import numpy as np\n",
        "import pandas as pd\n",
        "import matplotlib.pyplot as plt\n",
        "\n",
        "# For Exercise 1\n",
        "from sklearn.model_selection import train_test_split\n",
        "from sklearn.preprocessing import StandardScaler\n",
        "import statsmodels.api as sm\n",
        "from sklearn.metrics import r2_score\n",
        "\n",
        "# For Exercise 2\n",
        "import scipy.stats as stat\n",
        "\n",
        "# For Exercise 3\n",
        "import sklearn.linear_model as lm\n",
        "\n",
        "# For Exercise 4\n",
        "from sklearn.feature_selection import SequentialFeatureSelector\n",
        "from sklearn.metrics import mean_squared_error\n",
        "\n",
        "# For Exercise 7\n",
        "from sklearn.linear_model import ElasticNet\n",
        "\n",
        "# For Exercise 9\n",
        "import seaborn as sns"
      ]
    },
    {
      "cell_type": "code",
      "source": [
        "# We also import a library to adapt the style of the plots\n",
        "# to consider colorblindness\n",
        "import matplotlib.style as style\n",
        "style.use('tableau-colorblind10')"
      ],
      "metadata": {
        "id": "spSE2trsskzg"
      },
      "execution_count": null,
      "outputs": []
    },
    {
      "cell_type": "markdown",
      "metadata": {
        "id": "jrkKI1p98Iky"
      },
      "source": [
        "## **Exercise 1**"
      ]
    },
    {
      "cell_type": "markdown",
      "metadata": {
        "id": "yjqwC1kSDPhc"
      },
      "source": [
        "**a)** We first set the random seed to 0:\n"
      ]
    },
    {
      "cell_type": "code",
      "execution_count": null,
      "metadata": {
        "id": "gDYUhwhg-5GZ"
      },
      "outputs": [],
      "source": [
        "np.random.seed(0)"
      ]
    },
    {
      "cell_type": "markdown",
      "metadata": {
        "id": "hdf2-RkIDTzJ"
      },
      "source": [
        "**(b)** Loading the dataset into a dataframe, and printing the first five rows:"
      ]
    },
    {
      "cell_type": "code",
      "execution_count": null,
      "metadata": {
        "colab": {
          "base_uri": "https://localhost:8080/",
          "height": 235
        },
        "id": "YENXiRc9777v",
        "outputId": "51a2c124-aa35-4c71-ce23-9833ae47f501"
      },
      "outputs": [
        {
          "output_type": "execute_result",
          "data": {
            "text/plain": [
              "        V1       V2       V3       V4       V5       V6       V7       V8  \\\n",
              "0  2.61776  2.61814  2.61859  2.61912  2.61981  2.62071  2.62186  2.62334   \n",
              "1  2.83454  2.83871  2.84283  2.84705  2.85138  2.85587  2.86060  2.86566   \n",
              "2  2.58284  2.58458  2.58629  2.58808  2.58996  2.59192  2.59401  2.59627   \n",
              "3  2.82286  2.82460  2.82630  2.82814  2.83001  2.83192  2.83392  2.83606   \n",
              "4  2.78813  2.78989  2.79167  2.79350  2.79538  2.79746  2.79984  2.80254   \n",
              "\n",
              "        V9      V10  ...      V92      V93      V94      V95      V96  \\\n",
              "0  2.62511  2.62722  ...  2.98145  2.96072  2.94013  2.91978  2.89966   \n",
              "1  2.87093  2.87661  ...  3.29186  3.27921  3.26655  3.25369  3.24045   \n",
              "2  2.59873  2.60131  ...  2.68951  2.67009  2.65112  2.63262  2.61461   \n",
              "3  2.83842  2.84097  ...  2.97367  2.94951  2.92576  2.90251  2.87988   \n",
              "4  2.80553  2.80890  ...  3.30025  3.27907  3.25831  3.23784  3.21765   \n",
              "\n",
              "       V97      V98      V99     V100   fat  \n",
              "0  2.87964  2.85960  2.83940  2.81920  22.5  \n",
              "1  3.22659  3.21181  3.19600  3.17942  40.1  \n",
              "2  2.59718  2.58034  2.56404  2.54816   8.4  \n",
              "3  2.85794  2.83672  2.81617  2.79622   5.9  \n",
              "4  3.19766  3.17770  3.15770  3.13753  25.5  \n",
              "\n",
              "[5 rows x 101 columns]"
            ],
            "text/html": [
              "\n",
              "  <div id=\"df-a1921a31-6eb7-4674-b279-8efc29b3d8d1\">\n",
              "    <div class=\"colab-df-container\">\n",
              "      <div>\n",
              "<style scoped>\n",
              "    .dataframe tbody tr th:only-of-type {\n",
              "        vertical-align: middle;\n",
              "    }\n",
              "\n",
              "    .dataframe tbody tr th {\n",
              "        vertical-align: top;\n",
              "    }\n",
              "\n",
              "    .dataframe thead th {\n",
              "        text-align: right;\n",
              "    }\n",
              "</style>\n",
              "<table border=\"1\" class=\"dataframe\">\n",
              "  <thead>\n",
              "    <tr style=\"text-align: right;\">\n",
              "      <th></th>\n",
              "      <th>V1</th>\n",
              "      <th>V2</th>\n",
              "      <th>V3</th>\n",
              "      <th>V4</th>\n",
              "      <th>V5</th>\n",
              "      <th>V6</th>\n",
              "      <th>V7</th>\n",
              "      <th>V8</th>\n",
              "      <th>V9</th>\n",
              "      <th>V10</th>\n",
              "      <th>...</th>\n",
              "      <th>V92</th>\n",
              "      <th>V93</th>\n",
              "      <th>V94</th>\n",
              "      <th>V95</th>\n",
              "      <th>V96</th>\n",
              "      <th>V97</th>\n",
              "      <th>V98</th>\n",
              "      <th>V99</th>\n",
              "      <th>V100</th>\n",
              "      <th>fat</th>\n",
              "    </tr>\n",
              "  </thead>\n",
              "  <tbody>\n",
              "    <tr>\n",
              "      <th>0</th>\n",
              "      <td>2.61776</td>\n",
              "      <td>2.61814</td>\n",
              "      <td>2.61859</td>\n",
              "      <td>2.61912</td>\n",
              "      <td>2.61981</td>\n",
              "      <td>2.62071</td>\n",
              "      <td>2.62186</td>\n",
              "      <td>2.62334</td>\n",
              "      <td>2.62511</td>\n",
              "      <td>2.62722</td>\n",
              "      <td>...</td>\n",
              "      <td>2.98145</td>\n",
              "      <td>2.96072</td>\n",
              "      <td>2.94013</td>\n",
              "      <td>2.91978</td>\n",
              "      <td>2.89966</td>\n",
              "      <td>2.87964</td>\n",
              "      <td>2.85960</td>\n",
              "      <td>2.83940</td>\n",
              "      <td>2.81920</td>\n",
              "      <td>22.5</td>\n",
              "    </tr>\n",
              "    <tr>\n",
              "      <th>1</th>\n",
              "      <td>2.83454</td>\n",
              "      <td>2.83871</td>\n",
              "      <td>2.84283</td>\n",
              "      <td>2.84705</td>\n",
              "      <td>2.85138</td>\n",
              "      <td>2.85587</td>\n",
              "      <td>2.86060</td>\n",
              "      <td>2.86566</td>\n",
              "      <td>2.87093</td>\n",
              "      <td>2.87661</td>\n",
              "      <td>...</td>\n",
              "      <td>3.29186</td>\n",
              "      <td>3.27921</td>\n",
              "      <td>3.26655</td>\n",
              "      <td>3.25369</td>\n",
              "      <td>3.24045</td>\n",
              "      <td>3.22659</td>\n",
              "      <td>3.21181</td>\n",
              "      <td>3.19600</td>\n",
              "      <td>3.17942</td>\n",
              "      <td>40.1</td>\n",
              "    </tr>\n",
              "    <tr>\n",
              "      <th>2</th>\n",
              "      <td>2.58284</td>\n",
              "      <td>2.58458</td>\n",
              "      <td>2.58629</td>\n",
              "      <td>2.58808</td>\n",
              "      <td>2.58996</td>\n",
              "      <td>2.59192</td>\n",
              "      <td>2.59401</td>\n",
              "      <td>2.59627</td>\n",
              "      <td>2.59873</td>\n",
              "      <td>2.60131</td>\n",
              "      <td>...</td>\n",
              "      <td>2.68951</td>\n",
              "      <td>2.67009</td>\n",
              "      <td>2.65112</td>\n",
              "      <td>2.63262</td>\n",
              "      <td>2.61461</td>\n",
              "      <td>2.59718</td>\n",
              "      <td>2.58034</td>\n",
              "      <td>2.56404</td>\n",
              "      <td>2.54816</td>\n",
              "      <td>8.4</td>\n",
              "    </tr>\n",
              "    <tr>\n",
              "      <th>3</th>\n",
              "      <td>2.82286</td>\n",
              "      <td>2.82460</td>\n",
              "      <td>2.82630</td>\n",
              "      <td>2.82814</td>\n",
              "      <td>2.83001</td>\n",
              "      <td>2.83192</td>\n",
              "      <td>2.83392</td>\n",
              "      <td>2.83606</td>\n",
              "      <td>2.83842</td>\n",
              "      <td>2.84097</td>\n",
              "      <td>...</td>\n",
              "      <td>2.97367</td>\n",
              "      <td>2.94951</td>\n",
              "      <td>2.92576</td>\n",
              "      <td>2.90251</td>\n",
              "      <td>2.87988</td>\n",
              "      <td>2.85794</td>\n",
              "      <td>2.83672</td>\n",
              "      <td>2.81617</td>\n",
              "      <td>2.79622</td>\n",
              "      <td>5.9</td>\n",
              "    </tr>\n",
              "    <tr>\n",
              "      <th>4</th>\n",
              "      <td>2.78813</td>\n",
              "      <td>2.78989</td>\n",
              "      <td>2.79167</td>\n",
              "      <td>2.79350</td>\n",
              "      <td>2.79538</td>\n",
              "      <td>2.79746</td>\n",
              "      <td>2.79984</td>\n",
              "      <td>2.80254</td>\n",
              "      <td>2.80553</td>\n",
              "      <td>2.80890</td>\n",
              "      <td>...</td>\n",
              "      <td>3.30025</td>\n",
              "      <td>3.27907</td>\n",
              "      <td>3.25831</td>\n",
              "      <td>3.23784</td>\n",
              "      <td>3.21765</td>\n",
              "      <td>3.19766</td>\n",
              "      <td>3.17770</td>\n",
              "      <td>3.15770</td>\n",
              "      <td>3.13753</td>\n",
              "      <td>25.5</td>\n",
              "    </tr>\n",
              "  </tbody>\n",
              "</table>\n",
              "<p>5 rows × 101 columns</p>\n",
              "</div>\n",
              "      <button class=\"colab-df-convert\" onclick=\"convertToInteractive('df-a1921a31-6eb7-4674-b279-8efc29b3d8d1')\"\n",
              "              title=\"Convert this dataframe to an interactive table.\"\n",
              "              style=\"display:none;\">\n",
              "        \n",
              "  <svg xmlns=\"http://www.w3.org/2000/svg\" height=\"24px\"viewBox=\"0 0 24 24\"\n",
              "       width=\"24px\">\n",
              "    <path d=\"M0 0h24v24H0V0z\" fill=\"none\"/>\n",
              "    <path d=\"M18.56 5.44l.94 2.06.94-2.06 2.06-.94-2.06-.94-.94-2.06-.94 2.06-2.06.94zm-11 1L8.5 8.5l.94-2.06 2.06-.94-2.06-.94L8.5 2.5l-.94 2.06-2.06.94zm10 10l.94 2.06.94-2.06 2.06-.94-2.06-.94-.94-2.06-.94 2.06-2.06.94z\"/><path d=\"M17.41 7.96l-1.37-1.37c-.4-.4-.92-.59-1.43-.59-.52 0-1.04.2-1.43.59L10.3 9.45l-7.72 7.72c-.78.78-.78 2.05 0 2.83L4 21.41c.39.39.9.59 1.41.59.51 0 1.02-.2 1.41-.59l7.78-7.78 2.81-2.81c.8-.78.8-2.07 0-2.86zM5.41 20L4 18.59l7.72-7.72 1.47 1.35L5.41 20z\"/>\n",
              "  </svg>\n",
              "      </button>\n",
              "      \n",
              "  <style>\n",
              "    .colab-df-container {\n",
              "      display:flex;\n",
              "      flex-wrap:wrap;\n",
              "      gap: 12px;\n",
              "    }\n",
              "\n",
              "    .colab-df-convert {\n",
              "      background-color: #E8F0FE;\n",
              "      border: none;\n",
              "      border-radius: 50%;\n",
              "      cursor: pointer;\n",
              "      display: none;\n",
              "      fill: #1967D2;\n",
              "      height: 32px;\n",
              "      padding: 0 0 0 0;\n",
              "      width: 32px;\n",
              "    }\n",
              "\n",
              "    .colab-df-convert:hover {\n",
              "      background-color: #E2EBFA;\n",
              "      box-shadow: 0px 1px 2px rgba(60, 64, 67, 0.3), 0px 1px 3px 1px rgba(60, 64, 67, 0.15);\n",
              "      fill: #174EA6;\n",
              "    }\n",
              "\n",
              "    [theme=dark] .colab-df-convert {\n",
              "      background-color: #3B4455;\n",
              "      fill: #D2E3FC;\n",
              "    }\n",
              "\n",
              "    [theme=dark] .colab-df-convert:hover {\n",
              "      background-color: #434B5C;\n",
              "      box-shadow: 0px 1px 3px 1px rgba(0, 0, 0, 0.15);\n",
              "      filter: drop-shadow(0px 1px 2px rgba(0, 0, 0, 0.3));\n",
              "      fill: #FFFFFF;\n",
              "    }\n",
              "  </style>\n",
              "\n",
              "      <script>\n",
              "        const buttonEl =\n",
              "          document.querySelector('#df-a1921a31-6eb7-4674-b279-8efc29b3d8d1 button.colab-df-convert');\n",
              "        buttonEl.style.display =\n",
              "          google.colab.kernel.accessAllowed ? 'block' : 'none';\n",
              "\n",
              "        async function convertToInteractive(key) {\n",
              "          const element = document.querySelector('#df-a1921a31-6eb7-4674-b279-8efc29b3d8d1');\n",
              "          const dataTable =\n",
              "            await google.colab.kernel.invokeFunction('convertToInteractive',\n",
              "                                                     [key], {});\n",
              "          if (!dataTable) return;\n",
              "\n",
              "          const docLinkHtml = 'Like what you see? Visit the ' +\n",
              "            '<a target=\"_blank\" href=https://colab.research.google.com/notebooks/data_table.ipynb>data table notebook</a>'\n",
              "            + ' to learn more about interactive tables.';\n",
              "          element.innerHTML = '';\n",
              "          dataTable['output_type'] = 'display_data';\n",
              "          await google.colab.output.renderOutput(dataTable, element);\n",
              "          const docLink = document.createElement('div');\n",
              "          docLink.innerHTML = docLinkHtml;\n",
              "          element.appendChild(docLink);\n",
              "        }\n",
              "      </script>\n",
              "    </div>\n",
              "  </div>\n",
              "  "
            ]
          },
          "metadata": {},
          "execution_count": 6
        }
      ],
      "source": [
        "df = pd.read_csv('meatspec.csv')\n",
        "df.head()"
      ]
    },
    {
      "cell_type": "markdown",
      "metadata": {
        "id": "bLCpUh1BDVf9"
      },
      "source": [
        "We now print the mean and standard deviation of the covariates *X* (i.e., ``V1``,...,``V2``) and of the output variable *Y* (``fat``):"
      ]
    },
    {
      "cell_type": "code",
      "execution_count": null,
      "metadata": {
        "colab": {
          "base_uri": "https://localhost:8080/",
          "height": 423
        },
        "id": "_calWb_z_Fjw",
        "outputId": "5363ebd8-e834-41a0-f184-016fc5b6ab48"
      },
      "outputs": [
        {
          "output_type": "execute_result",
          "data": {
            "text/plain": [
              "           mean        std\n",
              "V1     2.808561   0.410793\n",
              "V2     2.811137   0.413352\n",
              "V3     2.813727   0.415906\n",
              "V4     2.816363   0.418465\n",
              "V5     2.819098   0.421040\n",
              "...         ...        ...\n",
              "V97    3.081070   0.539730\n",
              "V98    3.062290   0.538586\n",
              "V99    3.043548   0.537108\n",
              "V100   3.024895   0.535354\n",
              "fat   18.142326  12.740297\n",
              "\n",
              "[101 rows x 2 columns]"
            ],
            "text/html": [
              "\n",
              "  <div id=\"df-bd0cdb43-7342-42b1-a478-82146d7184eb\">\n",
              "    <div class=\"colab-df-container\">\n",
              "      <div>\n",
              "<style scoped>\n",
              "    .dataframe tbody tr th:only-of-type {\n",
              "        vertical-align: middle;\n",
              "    }\n",
              "\n",
              "    .dataframe tbody tr th {\n",
              "        vertical-align: top;\n",
              "    }\n",
              "\n",
              "    .dataframe thead th {\n",
              "        text-align: right;\n",
              "    }\n",
              "</style>\n",
              "<table border=\"1\" class=\"dataframe\">\n",
              "  <thead>\n",
              "    <tr style=\"text-align: right;\">\n",
              "      <th></th>\n",
              "      <th>mean</th>\n",
              "      <th>std</th>\n",
              "    </tr>\n",
              "  </thead>\n",
              "  <tbody>\n",
              "    <tr>\n",
              "      <th>V1</th>\n",
              "      <td>2.808561</td>\n",
              "      <td>0.410793</td>\n",
              "    </tr>\n",
              "    <tr>\n",
              "      <th>V2</th>\n",
              "      <td>2.811137</td>\n",
              "      <td>0.413352</td>\n",
              "    </tr>\n",
              "    <tr>\n",
              "      <th>V3</th>\n",
              "      <td>2.813727</td>\n",
              "      <td>0.415906</td>\n",
              "    </tr>\n",
              "    <tr>\n",
              "      <th>V4</th>\n",
              "      <td>2.816363</td>\n",
              "      <td>0.418465</td>\n",
              "    </tr>\n",
              "    <tr>\n",
              "      <th>V5</th>\n",
              "      <td>2.819098</td>\n",
              "      <td>0.421040</td>\n",
              "    </tr>\n",
              "    <tr>\n",
              "      <th>...</th>\n",
              "      <td>...</td>\n",
              "      <td>...</td>\n",
              "    </tr>\n",
              "    <tr>\n",
              "      <th>V97</th>\n",
              "      <td>3.081070</td>\n",
              "      <td>0.539730</td>\n",
              "    </tr>\n",
              "    <tr>\n",
              "      <th>V98</th>\n",
              "      <td>3.062290</td>\n",
              "      <td>0.538586</td>\n",
              "    </tr>\n",
              "    <tr>\n",
              "      <th>V99</th>\n",
              "      <td>3.043548</td>\n",
              "      <td>0.537108</td>\n",
              "    </tr>\n",
              "    <tr>\n",
              "      <th>V100</th>\n",
              "      <td>3.024895</td>\n",
              "      <td>0.535354</td>\n",
              "    </tr>\n",
              "    <tr>\n",
              "      <th>fat</th>\n",
              "      <td>18.142326</td>\n",
              "      <td>12.740297</td>\n",
              "    </tr>\n",
              "  </tbody>\n",
              "</table>\n",
              "<p>101 rows × 2 columns</p>\n",
              "</div>\n",
              "      <button class=\"colab-df-convert\" onclick=\"convertToInteractive('df-bd0cdb43-7342-42b1-a478-82146d7184eb')\"\n",
              "              title=\"Convert this dataframe to an interactive table.\"\n",
              "              style=\"display:none;\">\n",
              "        \n",
              "  <svg xmlns=\"http://www.w3.org/2000/svg\" height=\"24px\"viewBox=\"0 0 24 24\"\n",
              "       width=\"24px\">\n",
              "    <path d=\"M0 0h24v24H0V0z\" fill=\"none\"/>\n",
              "    <path d=\"M18.56 5.44l.94 2.06.94-2.06 2.06-.94-2.06-.94-.94-2.06-.94 2.06-2.06.94zm-11 1L8.5 8.5l.94-2.06 2.06-.94-2.06-.94L8.5 2.5l-.94 2.06-2.06.94zm10 10l.94 2.06.94-2.06 2.06-.94-2.06-.94-.94-2.06-.94 2.06-2.06.94z\"/><path d=\"M17.41 7.96l-1.37-1.37c-.4-.4-.92-.59-1.43-.59-.52 0-1.04.2-1.43.59L10.3 9.45l-7.72 7.72c-.78.78-.78 2.05 0 2.83L4 21.41c.39.39.9.59 1.41.59.51 0 1.02-.2 1.41-.59l7.78-7.78 2.81-2.81c.8-.78.8-2.07 0-2.86zM5.41 20L4 18.59l7.72-7.72 1.47 1.35L5.41 20z\"/>\n",
              "  </svg>\n",
              "      </button>\n",
              "      \n",
              "  <style>\n",
              "    .colab-df-container {\n",
              "      display:flex;\n",
              "      flex-wrap:wrap;\n",
              "      gap: 12px;\n",
              "    }\n",
              "\n",
              "    .colab-df-convert {\n",
              "      background-color: #E8F0FE;\n",
              "      border: none;\n",
              "      border-radius: 50%;\n",
              "      cursor: pointer;\n",
              "      display: none;\n",
              "      fill: #1967D2;\n",
              "      height: 32px;\n",
              "      padding: 0 0 0 0;\n",
              "      width: 32px;\n",
              "    }\n",
              "\n",
              "    .colab-df-convert:hover {\n",
              "      background-color: #E2EBFA;\n",
              "      box-shadow: 0px 1px 2px rgba(60, 64, 67, 0.3), 0px 1px 3px 1px rgba(60, 64, 67, 0.15);\n",
              "      fill: #174EA6;\n",
              "    }\n",
              "\n",
              "    [theme=dark] .colab-df-convert {\n",
              "      background-color: #3B4455;\n",
              "      fill: #D2E3FC;\n",
              "    }\n",
              "\n",
              "    [theme=dark] .colab-df-convert:hover {\n",
              "      background-color: #434B5C;\n",
              "      box-shadow: 0px 1px 3px 1px rgba(0, 0, 0, 0.15);\n",
              "      filter: drop-shadow(0px 1px 2px rgba(0, 0, 0, 0.3));\n",
              "      fill: #FFFFFF;\n",
              "    }\n",
              "  </style>\n",
              "\n",
              "      <script>\n",
              "        const buttonEl =\n",
              "          document.querySelector('#df-bd0cdb43-7342-42b1-a478-82146d7184eb button.colab-df-convert');\n",
              "        buttonEl.style.display =\n",
              "          google.colab.kernel.accessAllowed ? 'block' : 'none';\n",
              "\n",
              "        async function convertToInteractive(key) {\n",
              "          const element = document.querySelector('#df-bd0cdb43-7342-42b1-a478-82146d7184eb');\n",
              "          const dataTable =\n",
              "            await google.colab.kernel.invokeFunction('convertToInteractive',\n",
              "                                                     [key], {});\n",
              "          if (!dataTable) return;\n",
              "\n",
              "          const docLinkHtml = 'Like what you see? Visit the ' +\n",
              "            '<a target=\"_blank\" href=https://colab.research.google.com/notebooks/data_table.ipynb>data table notebook</a>'\n",
              "            + ' to learn more about interactive tables.';\n",
              "          element.innerHTML = '';\n",
              "          dataTable['output_type'] = 'display_data';\n",
              "          await google.colab.output.renderOutput(dataTable, element);\n",
              "          const docLink = document.createElement('div');\n",
              "          docLink.innerHTML = docLinkHtml;\n",
              "          element.appendChild(docLink);\n",
              "        }\n",
              "      </script>\n",
              "    </div>\n",
              "  </div>\n",
              "  "
            ]
          },
          "metadata": {},
          "execution_count": 7
        }
      ],
      "source": [
        "# ((df.iloc[:,:-1]).describe().transpose())[['mean', 'std']].head(100)\n",
        "(df.describe().transpose())[['mean', 'std']].head(len(df))"
      ]
    },
    {
      "cell_type": "markdown",
      "metadata": {
        "id": "TnkZPwZiDdjD"
      },
      "source": [
        "**c)** In order to see if the data is *centered*, we calculate the mean of the covariates *X*, and also of the outuput *Y*. If the mean values are all equal to zero, we conclude that the model is centered; otherwise, it is not. From what we obtained above, we see that the mean values of ``V1``,...,``V2`` and ``fat`` are **not** all equal to zero. Therefore, **the data is *not* centered**.\n",
        "\n",
        "Moreover, from the results above, we see that the standard deviation values of the covariates and of *Y* are **not** all equal to 1. We conclude, then, that **the data is *not* normalized**.\n",
        "\n",
        "Finally, from this discussion, it follows that **the data is *not* standardized**."
      ]
    },
    {
      "cell_type": "markdown",
      "metadata": {
        "id": "N8GxuDLhgALH"
      },
      "source": [
        "Creation of a matrix **X** (to store the values of the covariates for each observation) and of a vector **Y** (to store the values of the variable ``fat``)."
      ]
    },
    {
      "cell_type": "code",
      "execution_count": null,
      "metadata": {
        "id": "DsGmL0g5GNCd"
      },
      "outputs": [],
      "source": [
        "X = np.array(df.iloc[:, :-1])               # Design matrix\n",
        "Y = np.array(df.iloc[:, -1]).reshape(-1,1)  # Vector to store output variable"
      ]
    },
    {
      "cell_type": "markdown",
      "metadata": {
        "id": "HBjrNNrpHFCd"
      },
      "source": [
        "Separation of the data in *train* and *test* sets, and then standardizing both sets:"
      ]
    },
    {
      "cell_type": "code",
      "execution_count": null,
      "metadata": {
        "id": "U8r4t9GxJ6j-"
      },
      "outputs": [],
      "source": [
        "# Separation as train and test sets\n",
        "# (We will use 1/4 of the data for testing)\n",
        "\n",
        "X_train, X_test, Y_train, Y_test = train_test_split(X, Y, test_size=0.25,\n",
        "                                                    random_state = 0)\n",
        "\n",
        "# Standardization of the data:\n",
        "\n",
        "scaler = StandardScaler()\n",
        "\n",
        "X_train = scaler.fit_transform(X_train)\n",
        "X_test = scaler.transform(X_test)\n",
        "\n",
        "Y_train = scaler.fit_transform(Y_train)\n",
        "Y_test = scaler.transform(Y_test)"
      ]
    },
    {
      "cell_type": "markdown",
      "metadata": {
        "id": "HsoGF3dbReNP"
      },
      "source": [
        "**d)** Now, we do the fitting of a regular **OLS**.\n",
        "\n",
        "First, it is important to notice that it is *not* necessary to fit the intercept, since the data was standardized (which implies that it was *centered*). Hence, the intercept is necessarily zero."
      ]
    },
    {
      "cell_type": "code",
      "execution_count": null,
      "metadata": {
        "id": "vVJ1zv-mXOse"
      },
      "outputs": [],
      "source": [
        "# Remark: It is not necessary to add a first columns of 1s in the matrix X. If\n",
        "# we needed to do so, it could be written as: X_train = sm.add_constant(X_train)\n",
        "\n",
        "# Obtaining the OLS model\n",
        "model = sm.OLS(Y_train, X_train).fit()\n",
        "\n",
        "# Vector of OLS parameters (theta_1, ..., theta_100)\n",
        "theta = model.params\n",
        "\n",
        "# R2 coefficient of the regression\n",
        "R_squared_test = r2_score(Y_test, X_test @ theta)   # R2 coeff. usign test set\n",
        "R_squared_train = model.rsquared                    # R2 coeff. using train set"
      ]
    },
    {
      "cell_type": "markdown",
      "metadata": {
        "id": "HuimPWll4MOv"
      },
      "source": [
        "**e)** We store the $R^2$ coefficient in a DataFrame, for future comparison to other models:"
      ]
    },
    {
      "cell_type": "code",
      "execution_count": null,
      "metadata": {
        "colab": {
          "base_uri": "https://localhost:8080/",
          "height": 81
        },
        "id": "JOjR_GnZbfbF",
        "outputId": "ef0d1616-1d9d-4631-eeda-67bab7d3de43"
      },
      "outputs": [
        {
          "output_type": "execute_result",
          "data": {
            "text/plain": [
              "                          R2 values (test)  R2 values (train)\n",
              "Exercise 1 - Regular OLS          0.960055           0.995789"
            ],
            "text/html": [
              "\n",
              "  <div id=\"df-6398666c-ad6a-4c65-8704-4c5a44648be1\">\n",
              "    <div class=\"colab-df-container\">\n",
              "      <div>\n",
              "<style scoped>\n",
              "    .dataframe tbody tr th:only-of-type {\n",
              "        vertical-align: middle;\n",
              "    }\n",
              "\n",
              "    .dataframe tbody tr th {\n",
              "        vertical-align: top;\n",
              "    }\n",
              "\n",
              "    .dataframe thead th {\n",
              "        text-align: right;\n",
              "    }\n",
              "</style>\n",
              "<table border=\"1\" class=\"dataframe\">\n",
              "  <thead>\n",
              "    <tr style=\"text-align: right;\">\n",
              "      <th></th>\n",
              "      <th>R2 values (test)</th>\n",
              "      <th>R2 values (train)</th>\n",
              "    </tr>\n",
              "  </thead>\n",
              "  <tbody>\n",
              "    <tr>\n",
              "      <th>Exercise 1 - Regular OLS</th>\n",
              "      <td>0.960055</td>\n",
              "      <td>0.995789</td>\n",
              "    </tr>\n",
              "  </tbody>\n",
              "</table>\n",
              "</div>\n",
              "      <button class=\"colab-df-convert\" onclick=\"convertToInteractive('df-6398666c-ad6a-4c65-8704-4c5a44648be1')\"\n",
              "              title=\"Convert this dataframe to an interactive table.\"\n",
              "              style=\"display:none;\">\n",
              "        \n",
              "  <svg xmlns=\"http://www.w3.org/2000/svg\" height=\"24px\"viewBox=\"0 0 24 24\"\n",
              "       width=\"24px\">\n",
              "    <path d=\"M0 0h24v24H0V0z\" fill=\"none\"/>\n",
              "    <path d=\"M18.56 5.44l.94 2.06.94-2.06 2.06-.94-2.06-.94-.94-2.06-.94 2.06-2.06.94zm-11 1L8.5 8.5l.94-2.06 2.06-.94-2.06-.94L8.5 2.5l-.94 2.06-2.06.94zm10 10l.94 2.06.94-2.06 2.06-.94-2.06-.94-.94-2.06-.94 2.06-2.06.94z\"/><path d=\"M17.41 7.96l-1.37-1.37c-.4-.4-.92-.59-1.43-.59-.52 0-1.04.2-1.43.59L10.3 9.45l-7.72 7.72c-.78.78-.78 2.05 0 2.83L4 21.41c.39.39.9.59 1.41.59.51 0 1.02-.2 1.41-.59l7.78-7.78 2.81-2.81c.8-.78.8-2.07 0-2.86zM5.41 20L4 18.59l7.72-7.72 1.47 1.35L5.41 20z\"/>\n",
              "  </svg>\n",
              "      </button>\n",
              "      \n",
              "  <style>\n",
              "    .colab-df-container {\n",
              "      display:flex;\n",
              "      flex-wrap:wrap;\n",
              "      gap: 12px;\n",
              "    }\n",
              "\n",
              "    .colab-df-convert {\n",
              "      background-color: #E8F0FE;\n",
              "      border: none;\n",
              "      border-radius: 50%;\n",
              "      cursor: pointer;\n",
              "      display: none;\n",
              "      fill: #1967D2;\n",
              "      height: 32px;\n",
              "      padding: 0 0 0 0;\n",
              "      width: 32px;\n",
              "    }\n",
              "\n",
              "    .colab-df-convert:hover {\n",
              "      background-color: #E2EBFA;\n",
              "      box-shadow: 0px 1px 2px rgba(60, 64, 67, 0.3), 0px 1px 3px 1px rgba(60, 64, 67, 0.15);\n",
              "      fill: #174EA6;\n",
              "    }\n",
              "\n",
              "    [theme=dark] .colab-df-convert {\n",
              "      background-color: #3B4455;\n",
              "      fill: #D2E3FC;\n",
              "    }\n",
              "\n",
              "    [theme=dark] .colab-df-convert:hover {\n",
              "      background-color: #434B5C;\n",
              "      box-shadow: 0px 1px 3px 1px rgba(0, 0, 0, 0.15);\n",
              "      filter: drop-shadow(0px 1px 2px rgba(0, 0, 0, 0.3));\n",
              "      fill: #FFFFFF;\n",
              "    }\n",
              "  </style>\n",
              "\n",
              "      <script>\n",
              "        const buttonEl =\n",
              "          document.querySelector('#df-6398666c-ad6a-4c65-8704-4c5a44648be1 button.colab-df-convert');\n",
              "        buttonEl.style.display =\n",
              "          google.colab.kernel.accessAllowed ? 'block' : 'none';\n",
              "\n",
              "        async function convertToInteractive(key) {\n",
              "          const element = document.querySelector('#df-6398666c-ad6a-4c65-8704-4c5a44648be1');\n",
              "          const dataTable =\n",
              "            await google.colab.kernel.invokeFunction('convertToInteractive',\n",
              "                                                     [key], {});\n",
              "          if (!dataTable) return;\n",
              "\n",
              "          const docLinkHtml = 'Like what you see? Visit the ' +\n",
              "            '<a target=\"_blank\" href=https://colab.research.google.com/notebooks/data_table.ipynb>data table notebook</a>'\n",
              "            + ' to learn more about interactive tables.';\n",
              "          element.innerHTML = '';\n",
              "          dataTable['output_type'] = 'display_data';\n",
              "          await google.colab.output.renderOutput(dataTable, element);\n",
              "          const docLink = document.createElement('div');\n",
              "          docLink.innerHTML = docLinkHtml;\n",
              "          element.appendChild(docLink);\n",
              "        }\n",
              "      </script>\n",
              "    </div>\n",
              "  </div>\n",
              "  "
            ]
          },
          "metadata": {},
          "execution_count": 11
        }
      ],
      "source": [
        "# Storing the R2 coefficient in a dataframe for future comparison\n",
        "df_coef = pd.DataFrame()\n",
        "df_coef.loc['Exercise 1 - Regular OLS','R2 values (test)'] = R_squared_test\n",
        "df_coef.loc['Exercise 1 - Regular OLS','R2 values (train)'] = R_squared_train\n",
        "\n",
        "df_coef"
      ]
    },
    {
      "cell_type": "code",
      "execution_count": null,
      "metadata": {
        "id": "M_zGr9RbNTED"
      },
      "outputs": [],
      "source": [
        "# To show information about the model (coefficients, R2 value, etc.),\n",
        "# uncomment the following line\n",
        "# print(str(model.summary()))"
      ]
    },
    {
      "cell_type": "markdown",
      "metadata": {
        "id": "bEmk_0gH8Taz"
      },
      "source": [
        "# **Variable selection**"
      ]
    },
    {
      "cell_type": "markdown",
      "metadata": {
        "id": "NO9Wwn4j8W_9"
      },
      "source": [
        "## **Exercise 2**"
      ]
    },
    {
      "cell_type": "markdown",
      "metadata": {
        "id": "0Y6HVrLR48Q7"
      },
      "source": [
        "We implement the method of ***forward variable selection*** as seen during the course. The algorithm is detailed at page 26 of the lecture notes.\n",
        "\n",
        "We will use the test statistic for the \"test of no effect\", as proposed in the lecture notes (pages 25 and 26). At each iteration of the algorithm, we calculate the test statistic for a covariate $\\tilde{X}_k$ through the following expression (**with the notation used in the lecture notes**):\n",
        "\n",
        "$$\n",
        "T_n(r, \\tilde{X}_k) = \\sqrt{n} \\; \\frac{\\hat{\\theta}_n(r,\\tilde{X}_k)}{\\hat{s}_n(\\tilde{X}_k) \\; \\hat{\\sigma}_n(r,\\tilde{X}_k)}\n",
        "$$\n",
        "\n",
        "where\n",
        "- $r$ is the residual (updated at each iteration),\n",
        "- $\\hat{\\theta}_n(r,\\tilde{X}_k)$ is the OLS coefficient: $\\hat{\\theta}_n(r,\\tilde{X}_k) = \\textrm{argmin}_{\\theta \\in \\mathbb{R}} \\|r - \\theta \\, \\tilde{X}_k\\|^2$ ,\n",
        "- $\\hat{s}_n(\\tilde{X}_k) = 1 / \\sqrt{ \\big(\\tilde{X}_k^T \\, \\tilde{X}_k\\big)/n}$ ,\n",
        "- $\\hat{\\sigma}_n(r,\\tilde{X}_k) = \\frac{1}{n-1} \\, \\| r - \\hat{\\theta}_n(r,\\tilde{X}_k) \\, \\tilde{X}_k\\|^2$, where $n$ is the number of samples in the training set.\n",
        "\n",
        "Since the data was standardized, it follows that the (empirical) mean and variance of each covariate are equal to 0 and 1, respectively. We have, then,\n",
        "$\\sqrt{ \\big(\\tilde{X}_k^T \\, \\tilde{X}_k\\big)/n} = \\sqrt{\\textrm{Var}(\\tilde{X}_k)} = 1$, and, therefore, $\\hat{s}_n(\\tilde{X}_k) = 1$.\n",
        "\n",
        "The test statistic then is simplified to:\n",
        "$$\n",
        "T_n(r, \\tilde{X}_k) = \\sqrt{n} \\; \\frac{\\hat{\\theta}_n(r,\\tilde{X}_k)}{\\hat{\\sigma}_n(r,\\tilde{X}_k)}\n",
        "$$\n",
        "\n",
        "Since $T_n$ follows a t-distribution with $n-1$ degrees of freedom, the *p-value* associated to each covariate $\\tilde{X}_k$ is calculated as\n",
        "$$\n",
        "2\\cdot\\Big[ 1 - Q\\big(\\,|T_n(r,\\tilde{X}_k)|\\,\\big) \\Big]\n",
        "$$\n",
        "where $Q(\\cdot)$ denotes the quantile function of the t-distribution with $n-1$ degrees of freedom."
      ]
    },
    {
      "cell_type": "code",
      "execution_count": null,
      "metadata": {
        "id": "vlqYDHGK5FhQ"
      },
      "outputs": [],
      "source": [
        "n = X_train.shape[0]               # number of samples in the train set\n",
        "num_covariates = X_train.shape[1]  # number of covariates (in this case, 100)\n",
        "\n",
        "# DataFrame to store the indexes of the covariates in the order they were\n",
        "# selected and their respective p-values\n",
        "selected_indexes = pd.DataFrame(columns=['index', 'Covariate name', 'p-value'])\n",
        "\n",
        "# Initialization of the residuals\n",
        "resid = Y_train\n",
        "\n",
        "# Function to compute the test statistic for the \"test of no effect\"\n",
        "def calc_T(k):\n",
        "\n",
        "    # Column of the matrix X corresponding to the covariate k\n",
        "    X_k = X_train[:, k].reshape(-1,1)\n",
        "\n",
        "    # Obtention of the OLS coefficient theta\n",
        "    theta = sm.OLS(resid, X_k).fit().params[0]\n",
        "\n",
        "    # Unbiased estimator for the variance of the prediction error\n",
        "    sigma_sq = (np.linalg.norm(resid - theta * X_k))**2 / (n-1)\n",
        "\n",
        "    # Test statistic for the test of no effect\n",
        "    T = np.sqrt(n) * theta / np.sqrt(sigma_sq)\n",
        "\n",
        "    return T\n",
        "\n",
        "# Function to calculate the p-value associated to the test statistic T,\n",
        "# assuming a t-distribution of n-1 degrees of freedom\n",
        "def calc_p_val(T):\n",
        "    p_value_T = 2*(1 - stat.t.cdf(abs(T), n-1))\n",
        "    return p_value_T\n",
        "\n",
        "# Forward variable selection algorithm\n",
        "for i in range(num_covariates):\n",
        "\n",
        "    # List to store the indexes that were not selected yet\n",
        "    remaining_indexes = [k for k in range(num_covariates)\n",
        "                         if k not in selected_indexes['index'].values]\n",
        "\n",
        "    chosen_index = remaining_indexes[0]\n",
        "    T = calc_T(chosen_index)\n",
        "    current_p_val = calc_p_val(T)\n",
        "\n",
        "    # Finding the covariate with the smallest corresponding p-value,\n",
        "    # at the current iteration i\n",
        "    if (len(remaining_indexes) > 1):\n",
        "\n",
        "        for k in remaining_indexes[1:]:\n",
        "            T = calc_T(k)           # test stastistic T calculation\n",
        "            p_val = calc_p_val(T)   # p-value calculation\n",
        "\n",
        "            if (p_val < current_p_val):\n",
        "                current_p_val = p_val\n",
        "                chosen_index = k\n",
        "\n",
        "    selected_indexes.loc[i, 'index'] = chosen_index\n",
        "    selected_indexes.loc[i,'Covariate name'] = df.columns[chosen_index]\n",
        "    selected_indexes.loc[i, 'p-value'] = current_p_val\n",
        "\n",
        "    # Coefficient associated to the selected covariate (at current iteration)\n",
        "    theta = sm.OLS(resid, X_train[:,chosen_index]).fit().params[0]\n",
        "\n",
        "    # Updating the residuals\n",
        "    resid = resid - X_train[:,chosen_index].reshape(-1,1) * theta"
      ]
    },
    {
      "cell_type": "markdown",
      "metadata": {
        "id": "tIIH3yrEbIXm"
      },
      "source": [
        "Below, we show the first ten variables in the order obtained from the *forward variable selection* algorithm, as well as their respective p-value:"
      ]
    },
    {
      "cell_type": "code",
      "execution_count": null,
      "metadata": {
        "colab": {
          "base_uri": "https://localhost:8080/",
          "height": 363
        },
        "id": "FiqDhTstohBn",
        "outputId": "2ac5fdbb-55e6-409e-dd7f-10ac03e12e28"
      },
      "outputs": [
        {
          "output_type": "execute_result",
          "data": {
            "text/plain": [
              "  index Covariate name   p-value\n",
              "0    40            V41       0.0\n",
              "1     7             V8  0.051714\n",
              "2    39            V40  0.054108\n",
              "3     6             V7  0.054918\n",
              "4    41            V42  0.059074\n",
              "5     8             V9  0.060235\n",
              "6    38            V39  0.064927\n",
              "7     5             V6  0.066146\n",
              "8    42            V43  0.078051\n",
              "9     9            V10  0.079636"
            ],
            "text/html": [
              "\n",
              "  <div id=\"df-5ad1b087-855e-46bf-821e-a0cdbb6e1098\">\n",
              "    <div class=\"colab-df-container\">\n",
              "      <div>\n",
              "<style scoped>\n",
              "    .dataframe tbody tr th:only-of-type {\n",
              "        vertical-align: middle;\n",
              "    }\n",
              "\n",
              "    .dataframe tbody tr th {\n",
              "        vertical-align: top;\n",
              "    }\n",
              "\n",
              "    .dataframe thead th {\n",
              "        text-align: right;\n",
              "    }\n",
              "</style>\n",
              "<table border=\"1\" class=\"dataframe\">\n",
              "  <thead>\n",
              "    <tr style=\"text-align: right;\">\n",
              "      <th></th>\n",
              "      <th>index</th>\n",
              "      <th>Covariate name</th>\n",
              "      <th>p-value</th>\n",
              "    </tr>\n",
              "  </thead>\n",
              "  <tbody>\n",
              "    <tr>\n",
              "      <th>0</th>\n",
              "      <td>40</td>\n",
              "      <td>V41</td>\n",
              "      <td>0.0</td>\n",
              "    </tr>\n",
              "    <tr>\n",
              "      <th>1</th>\n",
              "      <td>7</td>\n",
              "      <td>V8</td>\n",
              "      <td>0.051714</td>\n",
              "    </tr>\n",
              "    <tr>\n",
              "      <th>2</th>\n",
              "      <td>39</td>\n",
              "      <td>V40</td>\n",
              "      <td>0.054108</td>\n",
              "    </tr>\n",
              "    <tr>\n",
              "      <th>3</th>\n",
              "      <td>6</td>\n",
              "      <td>V7</td>\n",
              "      <td>0.054918</td>\n",
              "    </tr>\n",
              "    <tr>\n",
              "      <th>4</th>\n",
              "      <td>41</td>\n",
              "      <td>V42</td>\n",
              "      <td>0.059074</td>\n",
              "    </tr>\n",
              "    <tr>\n",
              "      <th>5</th>\n",
              "      <td>8</td>\n",
              "      <td>V9</td>\n",
              "      <td>0.060235</td>\n",
              "    </tr>\n",
              "    <tr>\n",
              "      <th>6</th>\n",
              "      <td>38</td>\n",
              "      <td>V39</td>\n",
              "      <td>0.064927</td>\n",
              "    </tr>\n",
              "    <tr>\n",
              "      <th>7</th>\n",
              "      <td>5</td>\n",
              "      <td>V6</td>\n",
              "      <td>0.066146</td>\n",
              "    </tr>\n",
              "    <tr>\n",
              "      <th>8</th>\n",
              "      <td>42</td>\n",
              "      <td>V43</td>\n",
              "      <td>0.078051</td>\n",
              "    </tr>\n",
              "    <tr>\n",
              "      <th>9</th>\n",
              "      <td>9</td>\n",
              "      <td>V10</td>\n",
              "      <td>0.079636</td>\n",
              "    </tr>\n",
              "  </tbody>\n",
              "</table>\n",
              "</div>\n",
              "      <button class=\"colab-df-convert\" onclick=\"convertToInteractive('df-5ad1b087-855e-46bf-821e-a0cdbb6e1098')\"\n",
              "              title=\"Convert this dataframe to an interactive table.\"\n",
              "              style=\"display:none;\">\n",
              "        \n",
              "  <svg xmlns=\"http://www.w3.org/2000/svg\" height=\"24px\"viewBox=\"0 0 24 24\"\n",
              "       width=\"24px\">\n",
              "    <path d=\"M0 0h24v24H0V0z\" fill=\"none\"/>\n",
              "    <path d=\"M18.56 5.44l.94 2.06.94-2.06 2.06-.94-2.06-.94-.94-2.06-.94 2.06-2.06.94zm-11 1L8.5 8.5l.94-2.06 2.06-.94-2.06-.94L8.5 2.5l-.94 2.06-2.06.94zm10 10l.94 2.06.94-2.06 2.06-.94-2.06-.94-.94-2.06-.94 2.06-2.06.94z\"/><path d=\"M17.41 7.96l-1.37-1.37c-.4-.4-.92-.59-1.43-.59-.52 0-1.04.2-1.43.59L10.3 9.45l-7.72 7.72c-.78.78-.78 2.05 0 2.83L4 21.41c.39.39.9.59 1.41.59.51 0 1.02-.2 1.41-.59l7.78-7.78 2.81-2.81c.8-.78.8-2.07 0-2.86zM5.41 20L4 18.59l7.72-7.72 1.47 1.35L5.41 20z\"/>\n",
              "  </svg>\n",
              "      </button>\n",
              "      \n",
              "  <style>\n",
              "    .colab-df-container {\n",
              "      display:flex;\n",
              "      flex-wrap:wrap;\n",
              "      gap: 12px;\n",
              "    }\n",
              "\n",
              "    .colab-df-convert {\n",
              "      background-color: #E8F0FE;\n",
              "      border: none;\n",
              "      border-radius: 50%;\n",
              "      cursor: pointer;\n",
              "      display: none;\n",
              "      fill: #1967D2;\n",
              "      height: 32px;\n",
              "      padding: 0 0 0 0;\n",
              "      width: 32px;\n",
              "    }\n",
              "\n",
              "    .colab-df-convert:hover {\n",
              "      background-color: #E2EBFA;\n",
              "      box-shadow: 0px 1px 2px rgba(60, 64, 67, 0.3), 0px 1px 3px 1px rgba(60, 64, 67, 0.15);\n",
              "      fill: #174EA6;\n",
              "    }\n",
              "\n",
              "    [theme=dark] .colab-df-convert {\n",
              "      background-color: #3B4455;\n",
              "      fill: #D2E3FC;\n",
              "    }\n",
              "\n",
              "    [theme=dark] .colab-df-convert:hover {\n",
              "      background-color: #434B5C;\n",
              "      box-shadow: 0px 1px 3px 1px rgba(0, 0, 0, 0.15);\n",
              "      filter: drop-shadow(0px 1px 2px rgba(0, 0, 0, 0.3));\n",
              "      fill: #FFFFFF;\n",
              "    }\n",
              "  </style>\n",
              "\n",
              "      <script>\n",
              "        const buttonEl =\n",
              "          document.querySelector('#df-5ad1b087-855e-46bf-821e-a0cdbb6e1098 button.colab-df-convert');\n",
              "        buttonEl.style.display =\n",
              "          google.colab.kernel.accessAllowed ? 'block' : 'none';\n",
              "\n",
              "        async function convertToInteractive(key) {\n",
              "          const element = document.querySelector('#df-5ad1b087-855e-46bf-821e-a0cdbb6e1098');\n",
              "          const dataTable =\n",
              "            await google.colab.kernel.invokeFunction('convertToInteractive',\n",
              "                                                     [key], {});\n",
              "          if (!dataTable) return;\n",
              "\n",
              "          const docLinkHtml = 'Like what you see? Visit the ' +\n",
              "            '<a target=\"_blank\" href=https://colab.research.google.com/notebooks/data_table.ipynb>data table notebook</a>'\n",
              "            + ' to learn more about interactive tables.';\n",
              "          element.innerHTML = '';\n",
              "          dataTable['output_type'] = 'display_data';\n",
              "          await google.colab.output.renderOutput(dataTable, element);\n",
              "          const docLink = document.createElement('div');\n",
              "          docLink.innerHTML = docLinkHtml;\n",
              "          element.appendChild(docLink);\n",
              "        }\n",
              "      </script>\n",
              "    </div>\n",
              "  </div>\n",
              "  "
            ]
          },
          "metadata": {},
          "execution_count": 14
        }
      ],
      "source": [
        "selected_indexes.head(10)"
      ]
    },
    {
      "cell_type": "markdown",
      "metadata": {
        "id": "IiokdlmZb0xD"
      },
      "source": [
        "We now plot the p-value of each one of the covariates.\n",
        "One should notice that, in the x-axis, we show the index of each covariate, where 0 corresponds to ``V1``, 1 to ``V2``, etc."
      ]
    },
    {
      "cell_type": "code",
      "execution_count": null,
      "metadata": {
        "colab": {
          "base_uri": "https://localhost:8080/",
          "height": 295
        },
        "id": "rHbTnFPew62o",
        "outputId": "df0dbce0-968d-4ced-93e7-b332099e6ac1"
      },
      "outputs": [
        {
          "output_type": "display_data",
          "data": {
            "text/plain": [
              "<Figure size 576x288 with 1 Axes>"
            ],
            "image/png": "[encoded data removed]"
          },
          "metadata": {
            "needs_background": "light"
          }
        }
      ],
      "source": [
        "plt.figure(figsize=(8, 4))\n",
        "\n",
        "plt.scatter(range(num_covariates),\n",
        "            (selected_indexes.sort_values('index'))['p-value'].values)\n",
        "\n",
        "plt.title('P-value of the covariates after running variable selection')\n",
        "plt.xlabel('Index of the covariate')\n",
        "plt.ylabel('p-value')\n",
        "\n",
        "plt.show()"
      ]
    },
    {
      "cell_type": "markdown",
      "metadata": {
        "id": "6lsGtsnHbgdb"
      },
      "source": [
        "We can verify that ``V41`` is the only covariate with an associated p-value smaller than 0.05:"
      ]
    },
    {
      "cell_type": "code",
      "execution_count": null,
      "metadata": {
        "colab": {
          "base_uri": "https://localhost:8080/",
          "height": 81
        },
        "id": "j6Luk77Bxtft",
        "outputId": "875b79b8-176b-4aff-b131-a09c953c2ca1"
      },
      "outputs": [
        {
          "output_type": "execute_result",
          "data": {
            "text/plain": [
              "  index Covariate name p-value\n",
              "0    40            V41     0.0"
            ],
            "text/html": [
              "\n",
              "  <div id=\"df-818106d3-7423-4cef-8457-1c82acf25e6b\">\n",
              "    <div class=\"colab-df-container\">\n",
              "      <div>\n",
              "<style scoped>\n",
              "    .dataframe tbody tr th:only-of-type {\n",
              "        vertical-align: middle;\n",
              "    }\n",
              "\n",
              "    .dataframe tbody tr th {\n",
              "        vertical-align: top;\n",
              "    }\n",
              "\n",
              "    .dataframe thead th {\n",
              "        text-align: right;\n",
              "    }\n",
              "</style>\n",
              "<table border=\"1\" class=\"dataframe\">\n",
              "  <thead>\n",
              "    <tr style=\"text-align: right;\">\n",
              "      <th></th>\n",
              "      <th>index</th>\n",
              "      <th>Covariate name</th>\n",
              "      <th>p-value</th>\n",
              "    </tr>\n",
              "  </thead>\n",
              "  <tbody>\n",
              "    <tr>\n",
              "      <th>0</th>\n",
              "      <td>40</td>\n",
              "      <td>V41</td>\n",
              "      <td>0.0</td>\n",
              "    </tr>\n",
              "  </tbody>\n",
              "</table>\n",
              "</div>\n",
              "      <button class=\"colab-df-convert\" onclick=\"convertToInteractive('df-818106d3-7423-4cef-8457-1c82acf25e6b')\"\n",
              "              title=\"Convert this dataframe to an interactive table.\"\n",
              "              style=\"display:none;\">\n",
              "        \n",
              "  <svg xmlns=\"http://www.w3.org/2000/svg\" height=\"24px\"viewBox=\"0 0 24 24\"\n",
              "       width=\"24px\">\n",
              "    <path d=\"M0 0h24v24H0V0z\" fill=\"none\"/>\n",
              "    <path d=\"M18.56 5.44l.94 2.06.94-2.06 2.06-.94-2.06-.94-.94-2.06-.94 2.06-2.06.94zm-11 1L8.5 8.5l.94-2.06 2.06-.94-2.06-.94L8.5 2.5l-.94 2.06-2.06.94zm10 10l.94 2.06.94-2.06 2.06-.94-2.06-.94-.94-2.06-.94 2.06-2.06.94z\"/><path d=\"M17.41 7.96l-1.37-1.37c-.4-.4-.92-.59-1.43-.59-.52 0-1.04.2-1.43.59L10.3 9.45l-7.72 7.72c-.78.78-.78 2.05 0 2.83L4 21.41c.39.39.9.59 1.41.59.51 0 1.02-.2 1.41-.59l7.78-7.78 2.81-2.81c.8-.78.8-2.07 0-2.86zM5.41 20L4 18.59l7.72-7.72 1.47 1.35L5.41 20z\"/>\n",
              "  </svg>\n",
              "      </button>\n",
              "      \n",
              "  <style>\n",
              "    .colab-df-container {\n",
              "      display:flex;\n",
              "      flex-wrap:wrap;\n",
              "      gap: 12px;\n",
              "    }\n",
              "\n",
              "    .colab-df-convert {\n",
              "      background-color: #E8F0FE;\n",
              "      border: none;\n",
              "      border-radius: 50%;\n",
              "      cursor: pointer;\n",
              "      display: none;\n",
              "      fill: #1967D2;\n",
              "      height: 32px;\n",
              "      padding: 0 0 0 0;\n",
              "      width: 32px;\n",
              "    }\n",
              "\n",
              "    .colab-df-convert:hover {\n",
              "      background-color: #E2EBFA;\n",
              "      box-shadow: 0px 1px 2px rgba(60, 64, 67, 0.3), 0px 1px 3px 1px rgba(60, 64, 67, 0.15);\n",
              "      fill: #174EA6;\n",
              "    }\n",
              "\n",
              "    [theme=dark] .colab-df-convert {\n",
              "      background-color: #3B4455;\n",
              "      fill: #D2E3FC;\n",
              "    }\n",
              "\n",
              "    [theme=dark] .colab-df-convert:hover {\n",
              "      background-color: #434B5C;\n",
              "      box-shadow: 0px 1px 3px 1px rgba(0, 0, 0, 0.15);\n",
              "      filter: drop-shadow(0px 1px 2px rgba(0, 0, 0, 0.3));\n",
              "      fill: #FFFFFF;\n",
              "    }\n",
              "  </style>\n",
              "\n",
              "      <script>\n",
              "        const buttonEl =\n",
              "          document.querySelector('#df-818106d3-7423-4cef-8457-1c82acf25e6b button.colab-df-convert');\n",
              "        buttonEl.style.display =\n",
              "          google.colab.kernel.accessAllowed ? 'block' : 'none';\n",
              "\n",
              "        async function convertToInteractive(key) {\n",
              "          const element = document.querySelector('#df-818106d3-7423-4cef-8457-1c82acf25e6b');\n",
              "          const dataTable =\n",
              "            await google.colab.kernel.invokeFunction('convertToInteractive',\n",
              "                                                     [key], {});\n",
              "          if (!dataTable) return;\n",
              "\n",
              "          const docLinkHtml = 'Like what you see? Visit the ' +\n",
              "            '<a target=\"_blank\" href=https://colab.research.google.com/notebooks/data_table.ipynb>data table notebook</a>'\n",
              "            + ' to learn more about interactive tables.';\n",
              "          element.innerHTML = '';\n",
              "          dataTable['output_type'] = 'display_data';\n",
              "          await google.colab.output.renderOutput(dataTable, element);\n",
              "          const docLink = document.createElement('div');\n",
              "          docLink.innerHTML = docLinkHtml;\n",
              "          element.appendChild(docLink);\n",
              "        }\n",
              "      </script>\n",
              "    </div>\n",
              "  </div>\n",
              "  "
            ]
          },
          "metadata": {},
          "execution_count": 16
        }
      ],
      "source": [
        "selected_indexes[selected_indexes['p-value'] < 0.05]"
      ]
    },
    {
      "cell_type": "code",
      "source": [
        "print(\"P-value associated to covariate V41:\", selected_indexes.loc[0,'p-value'])"
      ],
      "metadata": {
        "colab": {
          "base_uri": "https://localhost:8080/"
        },
        "id": "9xMtw1jkmT4B",
        "outputId": "c31468f8-55dd-4c8a-c3fa-fbd1604582c3"
      },
      "execution_count": null,
      "outputs": [
        {
          "output_type": "stream",
          "name": "stdout",
          "text": [
            "P-value associated to covariate V41: 8.215650382226158e-15\n"
          ]
        }
      ]
    },
    {
      "cell_type": "markdown",
      "metadata": {
        "id": "w6qr--ZG8YVy"
      },
      "source": [
        "## **Exercise 3**"
      ]
    },
    {
      "cell_type": "markdown",
      "metadata": {
        "id": "62J4uZ7kz12I"
      },
      "source": [
        "**a)** It is asked to run OLS on the values with a p-value smaller than 0.05. As seen in the Exercise 2, the only covariate that satisfies this condition is ``V41``. We will use the ``OLS`` of ``sklearn`` to fit a model using this covariate."
      ]
    },
    {
      "cell_type": "code",
      "execution_count": null,
      "metadata": {
        "colab": {
          "base_uri": "https://localhost:8080/"
        },
        "id": "4RJe1-2aeFr_",
        "outputId": "92a0c793-fab5-456b-c6e8-a461ecd5bbb0"
      },
      "outputs": [
        {
          "output_type": "execute_result",
          "data": {
            "text/plain": [
              "LinearRegression(fit_intercept=False)"
            ]
          },
          "metadata": {},
          "execution_count": 18
        }
      ],
      "source": [
        "# We want to fit a OLS model without intercept (the data is centered)\n",
        "skl_model = lm.LinearRegression(fit_intercept=False)\n",
        "\n",
        "# The covariate V41 is the only one with a p-value < 0.05\n",
        "covariate_V41 = X_train[:, 40].reshape(-1,1)\n",
        "\n",
        "# We run OLS on the variable V41\n",
        "skl_model.fit(covariate_V41, Y_train)"
      ]
    },
    {
      "cell_type": "code",
      "execution_count": null,
      "metadata": {
        "id": "aSLcOy9_183M"
      },
      "outputs": [],
      "source": [
        "# If we want to plot the OLS line:\n",
        "# plt.scatter(covariate_V41, Y_train)\n",
        "# plt.plot(covariate_V41, skl_model.coef_[0]*covariate_V41, color='red')\n",
        "# plt.show()"
      ]
    },
    {
      "cell_type": "markdown",
      "metadata": {
        "id": "HjOwhH6P3ix2"
      },
      "source": [
        "**b)** We obtain the following determination coefficient ($R^2$):"
      ]
    },
    {
      "cell_type": "code",
      "execution_count": null,
      "metadata": {
        "colab": {
          "base_uri": "https://localhost:8080/"
        },
        "id": "_yLRZudM3QOg",
        "outputId": "0b6f1791-8a34-4b93-8263-7ab674cb3101"
      },
      "outputs": [
        {
          "output_type": "stream",
          "name": "stdout",
          "text": [
            "R2 coefficient (test set): 0.12713946972367185\n",
            "R2 coefficient (train set): 0.3146976272215324\n"
          ]
        }
      ],
      "source": [
        "R_squared_test = skl_model.score(X_test[:, 40].reshape(-1,1), Y_test)\n",
        "print(\"R2 coefficient (test set):\", R_squared_test)\n",
        "\n",
        "R_squared_train = skl_model.score(covariate_V41, Y_train)\n",
        "print(\"R2 coefficient (train set):\", R_squared_train)"
      ]
    },
    {
      "cell_type": "markdown",
      "metadata": {
        "id": "sElFiZdz4y20"
      },
      "source": [
        "We store the $R^2$ coefficient in the DataFrame ``df_coef``for comparison:"
      ]
    },
    {
      "cell_type": "code",
      "execution_count": null,
      "metadata": {
        "colab": {
          "base_uri": "https://localhost:8080/",
          "height": 112
        },
        "id": "Xn_Ij7ei5JcK",
        "outputId": "2316e000-cd35-45f4-d9ad-9834df1eaec8"
      },
      "outputs": [
        {
          "output_type": "execute_result",
          "data": {
            "text/plain": [
              "                                          R2 values (test)  R2 values (train)\n",
              "Exercise 1 - Regular OLS                          0.960055           0.995789\n",
              "Exercise 3 - OLS with Variable Selection          0.127139           0.314698"
            ],
            "text/html": [
              "\n",
              "  <div id=\"df-d49665bb-d91a-46bb-9876-cc2d8a622b82\">\n",
              "    <div class=\"colab-df-container\">\n",
              "      <div>\n",
              "<style scoped>\n",
              "    .dataframe tbody tr th:only-of-type {\n",
              "        vertical-align: middle;\n",
              "    }\n",
              "\n",
              "    .dataframe tbody tr th {\n",
              "        vertical-align: top;\n",
              "    }\n",
              "\n",
              "    .dataframe thead th {\n",
              "        text-align: right;\n",
              "    }\n",
              "</style>\n",
              "<table border=\"1\" class=\"dataframe\">\n",
              "  <thead>\n",
              "    <tr style=\"text-align: right;\">\n",
              "      <th></th>\n",
              "      <th>R2 values (test)</th>\n",
              "      <th>R2 values (train)</th>\n",
              "    </tr>\n",
              "  </thead>\n",
              "  <tbody>\n",
              "    <tr>\n",
              "      <th>Exercise 1 - Regular OLS</th>\n",
              "      <td>0.960055</td>\n",
              "      <td>0.995789</td>\n",
              "    </tr>\n",
              "    <tr>\n",
              "      <th>Exercise 3 - OLS with Variable Selection</th>\n",
              "      <td>0.127139</td>\n",
              "      <td>0.314698</td>\n",
              "    </tr>\n",
              "  </tbody>\n",
              "</table>\n",
              "</div>\n",
              "      <button class=\"colab-df-convert\" onclick=\"convertToInteractive('df-d49665bb-d91a-46bb-9876-cc2d8a622b82')\"\n",
              "              title=\"Convert this dataframe to an interactive table.\"\n",
              "              style=\"display:none;\">\n",
              "        \n",
              "  <svg xmlns=\"http://www.w3.org/2000/svg\" height=\"24px\"viewBox=\"0 0 24 24\"\n",
              "       width=\"24px\">\n",
              "    <path d=\"M0 0h24v24H0V0z\" fill=\"none\"/>\n",
              "    <path d=\"M18.56 5.44l.94 2.06.94-2.06 2.06-.94-2.06-.94-.94-2.06-.94 2.06-2.06.94zm-11 1L8.5 8.5l.94-2.06 2.06-.94-2.06-.94L8.5 2.5l-.94 2.06-2.06.94zm10 10l.94 2.06.94-2.06 2.06-.94-2.06-.94-.94-2.06-.94 2.06-2.06.94z\"/><path d=\"M17.41 7.96l-1.37-1.37c-.4-.4-.92-.59-1.43-.59-.52 0-1.04.2-1.43.59L10.3 9.45l-7.72 7.72c-.78.78-.78 2.05 0 2.83L4 21.41c.39.39.9.59 1.41.59.51 0 1.02-.2 1.41-.59l7.78-7.78 2.81-2.81c.8-.78.8-2.07 0-2.86zM5.41 20L4 18.59l7.72-7.72 1.47 1.35L5.41 20z\"/>\n",
              "  </svg>\n",
              "      </button>\n",
              "      \n",
              "  <style>\n",
              "    .colab-df-container {\n",
              "      display:flex;\n",
              "      flex-wrap:wrap;\n",
              "      gap: 12px;\n",
              "    }\n",
              "\n",
              "    .colab-df-convert {\n",
              "      background-color: #E8F0FE;\n",
              "      border: none;\n",
              "      border-radius: 50%;\n",
              "      cursor: pointer;\n",
              "      display: none;\n",
              "      fill: #1967D2;\n",
              "      height: 32px;\n",
              "      padding: 0 0 0 0;\n",
              "      width: 32px;\n",
              "    }\n",
              "\n",
              "    .colab-df-convert:hover {\n",
              "      background-color: #E2EBFA;\n",
              "      box-shadow: 0px 1px 2px rgba(60, 64, 67, 0.3), 0px 1px 3px 1px rgba(60, 64, 67, 0.15);\n",
              "      fill: #174EA6;\n",
              "    }\n",
              "\n",
              "    [theme=dark] .colab-df-convert {\n",
              "      background-color: #3B4455;\n",
              "      fill: #D2E3FC;\n",
              "    }\n",
              "\n",
              "    [theme=dark] .colab-df-convert:hover {\n",
              "      background-color: #434B5C;\n",
              "      box-shadow: 0px 1px 3px 1px rgba(0, 0, 0, 0.15);\n",
              "      filter: drop-shadow(0px 1px 2px rgba(0, 0, 0, 0.3));\n",
              "      fill: #FFFFFF;\n",
              "    }\n",
              "  </style>\n",
              "\n",
              "      <script>\n",
              "        const buttonEl =\n",
              "          document.querySelector('#df-d49665bb-d91a-46bb-9876-cc2d8a622b82 button.colab-df-convert');\n",
              "        buttonEl.style.display =\n",
              "          google.colab.kernel.accessAllowed ? 'block' : 'none';\n",
              "\n",
              "        async function convertToInteractive(key) {\n",
              "          const element = document.querySelector('#df-d49665bb-d91a-46bb-9876-cc2d8a622b82');\n",
              "          const dataTable =\n",
              "            await google.colab.kernel.invokeFunction('convertToInteractive',\n",
              "                                                     [key], {});\n",
              "          if (!dataTable) return;\n",
              "\n",
              "          const docLinkHtml = 'Like what you see? Visit the ' +\n",
              "            '<a target=\"_blank\" href=https://colab.research.google.com/notebooks/data_table.ipynb>data table notebook</a>'\n",
              "            + ' to learn more about interactive tables.';\n",
              "          element.innerHTML = '';\n",
              "          dataTable['output_type'] = 'display_data';\n",
              "          await google.colab.output.renderOutput(dataTable, element);\n",
              "          const docLink = document.createElement('div');\n",
              "          docLink.innerHTML = docLinkHtml;\n",
              "          element.appendChild(docLink);\n",
              "        }\n",
              "      </script>\n",
              "    </div>\n",
              "  </div>\n",
              "  "
            ]
          },
          "metadata": {},
          "execution_count": 21
        }
      ],
      "source": [
        "df_coef.loc['Exercise 3 - OLS with Variable Selection',\n",
        "            'R2 values (test)'] = R_squared_test\n",
        "\n",
        "df_coef.loc['Exercise 3 - OLS with Variable Selection',\n",
        "            'R2 values (train)'] = R_squared_train\n",
        "df_coef"
      ]
    },
    {
      "cell_type": "markdown",
      "metadata": {
        "id": "XfhvoAxl8YJp"
      },
      "source": [
        "## **Exercise 4**\n"
      ]
    },
    {
      "cell_type": "markdown",
      "metadata": {
        "id": "NMDWXaE67bk9"
      },
      "source": [
        "We now use ``SequentialFeatureSelector`` (with forward selection) to select one covariate. In the sequence, we show the selected variable:"
      ]
    },
    {
      "cell_type": "code",
      "execution_count": null,
      "metadata": {
        "colab": {
          "base_uri": "https://localhost:8080/"
        },
        "id": "RWBwLjg-7lex",
        "outputId": "e44a4f18-6ee0-4888-82b5-3474b3a4b537"
      },
      "outputs": [
        {
          "output_type": "stream",
          "name": "stdout",
          "text": [
            "The index of the selected variable is: 40\n"
          ]
        }
      ],
      "source": [
        "skl_model = lm.LinearRegression(fit_intercept=False)\n",
        "\n",
        "selector = SequentialFeatureSelector(skl_model, n_features_to_select=1)\n",
        "\n",
        "selector.fit(X_train, Y_train)\n",
        "\n",
        "print(\"The index of the selected variable is:\",\n",
        "      np.where(selector.get_support())[0][0])"
      ]
    },
    {
      "cell_type": "markdown",
      "metadata": {
        "id": "pfclTbLsTM_V"
      },
      "source": [
        "**a)** We can observe that the index of the selected variable is **40**, which corresponds to the covariate ``V41``, the same selected at Exercise 3.\n",
        "\n",
        "The ``SequentialFeatureSelector`` selects the same variable as the one selected by the Forward Variable Selection algorithm implemented in Exercise 2.\n",
        "\n",
        "If we selected more than one variable using each method, we could verify that the two methods may not return the same variables. The reason is related to the fact that the algorithm that we implemented in Exercise 2 uses the p-value of $T$ (the test statistic of no-effect) as the criterion to select the features; on the other hand, the criterion used by ``SequentialFeatureSelector`` is, by default, the R2 coefficient of each OLS line fitted (as can be seen in the documentation of the method)."
      ]
    },
    {
      "cell_type": "markdown",
      "source": [
        "We now calculate the $R^2$ coefficient. It is the same as the one calculated in the Exercise 3, since we selected, again, only the feature ``V41`` to run the OLS."
      ],
      "metadata": {
        "id": "FKQ-akZXHPat"
      }
    },
    {
      "cell_type": "code",
      "execution_count": null,
      "metadata": {
        "colab": {
          "base_uri": "https://localhost:8080/"
        },
        "id": "wPoSuHXuVcf0",
        "outputId": "906dec65-9bed-4067-d884-2104f4b0d0f6"
      },
      "outputs": [
        {
          "output_type": "stream",
          "name": "stdout",
          "text": [
            "R2 coefficient (test set): 0.12713946972367185\n",
            "R2 coefficient (train set): 0.3146976272215324\n"
          ]
        }
      ],
      "source": [
        "skl_model.fit(covariate_V41, Y_train)\n",
        "\n",
        "R_squared_train = skl_model.score(covariate_V41,Y_train)\n",
        "R_squared_test = skl_model.score(X_test[:, 40].reshape(-1,1), Y_test)\n",
        "print(\"R2 coefficient (test set):\", R_squared_test)\n",
        "print(\"R2 coefficient (train set):\", R_squared_train)"
      ]
    },
    {
      "cell_type": "markdown",
      "metadata": {
        "id": "ZtGV9lIQYLIt"
      },
      "source": [
        "In the sequence, we store the value of the $R^2$ coefficient in the DataFrame ``df_coef``:"
      ]
    },
    {
      "cell_type": "code",
      "execution_count": null,
      "metadata": {
        "colab": {
          "base_uri": "https://localhost:8080/",
          "height": 143
        },
        "id": "G6Dv_4ZaXADg",
        "outputId": "16e14625-9617-4563-8e3a-0181950a0bf9"
      },
      "outputs": [
        {
          "output_type": "execute_result",
          "data": {
            "text/plain": [
              "                                                    R2 values (test)  \\\n",
              "Exercise 1 - Regular OLS                                    0.960055   \n",
              "Exercise 3 - OLS with Variable Selection                    0.127139   \n",
              "Exercise 4 - OLS with sklearn's variable selection          0.127139   \n",
              "\n",
              "                                                    R2 values (train)  \n",
              "Exercise 1 - Regular OLS                                     0.995789  \n",
              "Exercise 3 - OLS with Variable Selection                     0.314698  \n",
              "Exercise 4 - OLS with sklearn's variable selection           0.314698  "
            ],
            "text/html": [
              "\n",
              "  <div id=\"df-a3be7d5f-e5a1-4906-b22b-5243e0e0545b\">\n",
              "    <div class=\"colab-df-container\">\n",
              "      <div>\n",
              "<style scoped>\n",
              "    .dataframe tbody tr th:only-of-type {\n",
              "        vertical-align: middle;\n",
              "    }\n",
              "\n",
              "    .dataframe tbody tr th {\n",
              "        vertical-align: top;\n",
              "    }\n",
              "\n",
              "    .dataframe thead th {\n",
              "        text-align: right;\n",
              "    }\n",
              "</style>\n",
              "<table border=\"1\" class=\"dataframe\">\n",
              "  <thead>\n",
              "    <tr style=\"text-align: right;\">\n",
              "      <th></th>\n",
              "      <th>R2 values (test)</th>\n",
              "      <th>R2 values (train)</th>\n",
              "    </tr>\n",
              "  </thead>\n",
              "  <tbody>\n",
              "    <tr>\n",
              "      <th>Exercise 1 - Regular OLS</th>\n",
              "      <td>0.960055</td>\n",
              "      <td>0.995789</td>\n",
              "    </tr>\n",
              "    <tr>\n",
              "      <th>Exercise 3 - OLS with Variable Selection</th>\n",
              "      <td>0.127139</td>\n",
              "      <td>0.314698</td>\n",
              "    </tr>\n",
              "    <tr>\n",
              "      <th>Exercise 4 - OLS with sklearn's variable selection</th>\n",
              "      <td>0.127139</td>\n",
              "      <td>0.314698</td>\n",
              "    </tr>\n",
              "  </tbody>\n",
              "</table>\n",
              "</div>\n",
              "      <button class=\"colab-df-convert\" onclick=\"convertToInteractive('df-a3be7d5f-e5a1-4906-b22b-5243e0e0545b')\"\n",
              "              title=\"Convert this dataframe to an interactive table.\"\n",
              "              style=\"display:none;\">\n",
              "        \n",
              "  <svg xmlns=\"http://www.w3.org/2000/svg\" height=\"24px\"viewBox=\"0 0 24 24\"\n",
              "       width=\"24px\">\n",
              "    <path d=\"M0 0h24v24H0V0z\" fill=\"none\"/>\n",
              "    <path d=\"M18.56 5.44l.94 2.06.94-2.06 2.06-.94-2.06-.94-.94-2.06-.94 2.06-2.06.94zm-11 1L8.5 8.5l.94-2.06 2.06-.94-2.06-.94L8.5 2.5l-.94 2.06-2.06.94zm10 10l.94 2.06.94-2.06 2.06-.94-2.06-.94-.94-2.06-.94 2.06-2.06.94z\"/><path d=\"M17.41 7.96l-1.37-1.37c-.4-.4-.92-.59-1.43-.59-.52 0-1.04.2-1.43.59L10.3 9.45l-7.72 7.72c-.78.78-.78 2.05 0 2.83L4 21.41c.39.39.9.59 1.41.59.51 0 1.02-.2 1.41-.59l7.78-7.78 2.81-2.81c.8-.78.8-2.07 0-2.86zM5.41 20L4 18.59l7.72-7.72 1.47 1.35L5.41 20z\"/>\n",
              "  </svg>\n",
              "      </button>\n",
              "      \n",
              "  <style>\n",
              "    .colab-df-container {\n",
              "      display:flex;\n",
              "      flex-wrap:wrap;\n",
              "      gap: 12px;\n",
              "    }\n",
              "\n",
              "    .colab-df-convert {\n",
              "      background-color: #E8F0FE;\n",
              "      border: none;\n",
              "      border-radius: 50%;\n",
              "      cursor: pointer;\n",
              "      display: none;\n",
              "      fill: #1967D2;\n",
              "      height: 32px;\n",
              "      padding: 0 0 0 0;\n",
              "      width: 32px;\n",
              "    }\n",
              "\n",
              "    .colab-df-convert:hover {\n",
              "      background-color: #E2EBFA;\n",
              "      box-shadow: 0px 1px 2px rgba(60, 64, 67, 0.3), 0px 1px 3px 1px rgba(60, 64, 67, 0.15);\n",
              "      fill: #174EA6;\n",
              "    }\n",
              "\n",
              "    [theme=dark] .colab-df-convert {\n",
              "      background-color: #3B4455;\n",
              "      fill: #D2E3FC;\n",
              "    }\n",
              "\n",
              "    [theme=dark] .colab-df-convert:hover {\n",
              "      background-color: #434B5C;\n",
              "      box-shadow: 0px 1px 3px 1px rgba(0, 0, 0, 0.15);\n",
              "      filter: drop-shadow(0px 1px 2px rgba(0, 0, 0, 0.3));\n",
              "      fill: #FFFFFF;\n",
              "    }\n",
              "  </style>\n",
              "\n",
              "      <script>\n",
              "        const buttonEl =\n",
              "          document.querySelector('#df-a3be7d5f-e5a1-4906-b22b-5243e0e0545b button.colab-df-convert');\n",
              "        buttonEl.style.display =\n",
              "          google.colab.kernel.accessAllowed ? 'block' : 'none';\n",
              "\n",
              "        async function convertToInteractive(key) {\n",
              "          const element = document.querySelector('#df-a3be7d5f-e5a1-4906-b22b-5243e0e0545b');\n",
              "          const dataTable =\n",
              "            await google.colab.kernel.invokeFunction('convertToInteractive',\n",
              "                                                     [key], {});\n",
              "          if (!dataTable) return;\n",
              "\n",
              "          const docLinkHtml = 'Like what you see? Visit the ' +\n",
              "            '<a target=\"_blank\" href=https://colab.research.google.com/notebooks/data_table.ipynb>data table notebook</a>'\n",
              "            + ' to learn more about interactive tables.';\n",
              "          element.innerHTML = '';\n",
              "          dataTable['output_type'] = 'display_data';\n",
              "          await google.colab.output.renderOutput(dataTable, element);\n",
              "          const docLink = document.createElement('div');\n",
              "          docLink.innerHTML = docLinkHtml;\n",
              "          element.appendChild(docLink);\n",
              "        }\n",
              "      </script>\n",
              "    </div>\n",
              "  </div>\n",
              "  "
            ]
          },
          "metadata": {},
          "execution_count": 24
        }
      ],
      "source": [
        "# Storing the R2 coefficient in the DataFrame for comparison\n",
        "\n",
        "df_coef.loc['Exercise 4 - OLS with sklearn\\'s variable selection',\n",
        "            'R2 values (test)'] = R_squared_test\n",
        "\n",
        "df_coef.loc['Exercise 4 - OLS with sklearn\\'s variable selection',\n",
        "            'R2 values (train)'] = R_squared_train\n",
        "df_coef"
      ]
    },
    {
      "cell_type": "markdown",
      "metadata": {
        "id": "QApyh3uD8eP3"
      },
      "source": [
        "# **Ridge**"
      ]
    },
    {
      "cell_type": "markdown",
      "metadata": {
        "id": "pheFqzJTYhd8"
      },
      "source": [
        "## **Exercise 5**"
      ]
    },
    {
      "cell_type": "markdown",
      "metadata": {
        "id": "tpZ5CIf1Ykda"
      },
      "source": [
        "In this exercise, we implement the *ridge estimator*.\n",
        "\n",
        "Let $p$ denote the number of covariates. We consider that the data is standardized (and, therefore, *centered*).\n",
        "\n",
        "The ridge estimator $\\hat{\\theta}^{(rdg)}$ is the solution of:\n",
        "\n",
        "$$\n",
        "\\textrm{argmin}_{\\theta \\in \\mathbb{R}^p} \\Big( \\|Y - X\\,\\theta \\|^2 + n\\alpha\\| \\theta\\|^2 \\Big)\n",
        "$$\n",
        "with $\\alpha > 0$.\n",
        "\n",
        "The solution is *unique* and, as seen in class (page 30 of the lecture notes), it is given by\n",
        "\n",
        "$$\n",
        "\\hat{\\theta}^{(rdg)} = (X^T X + n\\,\\alpha\\,I_p)^{-1} X^T Y\n",
        "$$\n",
        "\n",
        "In the following, we code a function that returns the vector of coefficients $\\hat{\\theta}^{(rdg)}$, given the penalty parameter $\\alpha > 0$ and the matrices $X$ and $Y$.\n"
      ]
    },
    {
      "cell_type": "code",
      "execution_count": null,
      "metadata": {
        "id": "qA0MnSvMYRgz"
      },
      "outputs": [],
      "source": [
        "def ridge_coefs(X, Y, alpha):\n",
        "\n",
        "    n = X.shape[0]    # number of samples\n",
        "    p = X.shape[1]    # number of covariates\n",
        "\n",
        "    # Vector composed of the coefficients of the ridge estimator\n",
        "    theta = np.linalg.inv((X.T @ X) + n*alpha*np.identity(p)) @ X.T @ Y\n",
        "    theta = (theta.T)[0]    # Conversion from \"column array\" to \"row array\"\n",
        "\n",
        "    return theta"
      ]
    },
    {
      "cell_type": "code",
      "execution_count": null,
      "metadata": {
        "id": "QbrImjAGYReA"
      },
      "outputs": [],
      "source": [
        "# We could compare with the results obtained using the ridge implementation\n",
        "# of sklearn. One should notice, however, that the regularization term considered\n",
        "# in the sklearn's implementation is: alpha * (squared norm of theta)\n",
        "# instead of: n * alpha * (squared norm of theta).\n",
        "\n",
        "# For example, with alpha = 0.5:\n",
        "# model_ridge = lm.Ridge(alpha=0.5*X_train.shape[0], fit_intercept = False)\n",
        "# model_ridge.fit(X_train,Y_train)\n",
        "# model_ridge.coef_.T"
      ]
    },
    {
      "cell_type": "markdown",
      "metadata": {
        "id": "pzrXA4sdu68I"
      },
      "source": [
        "**a)** We plot how the values of the coefficients change accordingly to the parameter $\\alpha$:"
      ]
    },
    {
      "cell_type": "code",
      "execution_count": null,
      "metadata": {
        "colab": {
          "base_uri": "https://localhost:8080/",
          "height": 414
        },
        "id": "d_Ni4M-sYRWY",
        "outputId": "b0ae5efb-7491-4820-bb62-12ee17be25cb"
      },
      "outputs": [
        {
          "output_type": "display_data",
          "data": {
            "text/plain": [
              "<Figure size 720x432 with 1 Axes>"
            ],
            "image/png": "[encoded data removed]"
          },
          "metadata": {
            "needs_background": "light"
          }
        }
      ],
      "source": [
        "# We will use a penalty parameter alpha evenly spaced on a log scale\n",
        "# from 10^(-9) to 10^(2).\n",
        "alpha_values = np.logspace(-9, 2)\n",
        "\n",
        "# We will store the values of the coefficients as a function of alpha\n",
        "# in a dictionary. The keys will be the covariates' indexes and each\n",
        "# key k will correspond to a list of the values of the covariate k\n",
        "\n",
        "coefs_dict = {}\n",
        "for k in range(X_train.shape[1]):\n",
        "    coefs_dict[k] = []\n",
        "\n",
        "# Storing the values of each covariate for each alpha\n",
        "\n",
        "for alpha in alpha_values:\n",
        "    coefs = ridge_coefs(X_train, Y_train, alpha)\n",
        "    for k in range(X_train.shape[1]):\n",
        "        coefs_dict[k].append(coefs[k])\n",
        "\n",
        "# Plotting the \"ridge path\"\n",
        "\n",
        "plt.figure(figsize=(10, 6))\n",
        "\n",
        "for k in range(X_train.shape[1]):\n",
        "    # Plot of the curve associated to the covariate of index k\n",
        "    plt.plot(alpha_values, coefs_dict[k])\n",
        "\n",
        "plt.xscale('log')\n",
        "plt.title(r'Variation of the Ridge coefficients with $\\alpha$')\n",
        "plt.xlabel(r'Penalty parameter, $\\alpha$')\n",
        "plt.ylabel(r'Coefficients values')\n",
        "\n",
        "plt.show()"
      ]
    },
    {
      "cell_type": "markdown",
      "metadata": {
        "id": "-1KbKlpY4VA5"
      },
      "source": [
        "**b)** Now, we plot how the mean squared error (MSE) of both the train and test sets change with $\\alpha$. We indicate the minimum with a point."
      ]
    },
    {
      "cell_type": "code",
      "execution_count": null,
      "metadata": {
        "colab": {
          "base_uri": "https://localhost:8080/",
          "height": 414
        },
        "id": "Oh_X6gd-04O7",
        "outputId": "d234ff80-ae92-45c1-c72e-94534002ddb3"
      },
      "outputs": [
        {
          "output_type": "display_data",
          "data": {
            "text/plain": [
              "<Figure size 720x432 with 1 Axes>"
            ],
            "image/png": "[encoded data removed]"
          },
          "metadata": {
            "needs_background": "light"
          }
        }
      ],
      "source": [
        "alpha_values = np.logspace(-9, 2)\n",
        "\n",
        "MSE_train = []\n",
        "MSE_test = []\n",
        "\n",
        "for alpha in alpha_values:\n",
        "    coefs = ridge_coefs(X_train, Y_train, alpha)    # Ridge coefficients\n",
        "\n",
        "    # Calculation of the residuals associated to the train and test sets\n",
        "    resid_train = Y_train - X_train @ (coefs.reshape(-1, 1))\n",
        "    resid_test = Y_test - X_test @ (coefs.reshape(-1, 1))\n",
        "\n",
        "    MSE_train.append((np.linalg.norm(resid_train))**2 / X_train.shape[0])\n",
        "    MSE_test.append((np.linalg.norm(resid_test))**2 / X_test.shape[0])\n",
        "\n",
        "# Obtention of the index of the training MSE minimizer\n",
        "minimizer_index = np.argmin(MSE_train)\n",
        "\n",
        "# Plotting the MSE curves and the minimum of the training MSE\n",
        "\n",
        "plt.figure(figsize=(10, 6))\n",
        "\n",
        "plt.plot(alpha_values, MSE_train, label='MSE for train set', linewidth=2)\n",
        "plt.plot(alpha_values, MSE_test, label='MSE for test set', linewidth=2,\n",
        "         linestyle='dashed')\n",
        "\n",
        "plt.scatter(alpha_values[minimizer_index], MSE_train[minimizer_index],\n",
        "            color = 'red', linewidth = 2, label = 'Training MSE minimum')\n",
        "\n",
        "plt.xscale('log')\n",
        "plt.title(r'Variation of MSE accordingly to parameter $\\alpha$')\n",
        "plt.xlabel(r'Penalty parameter, $\\alpha$')\n",
        "plt.ylabel(r'Mean Square Error, MSE')\n",
        "plt.legend()\n",
        "\n",
        "plt.show()"
      ]
    },
    {
      "cell_type": "code",
      "execution_count": null,
      "metadata": {
        "id": "c03o-UE0hHCz"
      },
      "outputs": [],
      "source": [
        "#Remark:\n",
        "# If we wanted to use the Lasso implementation from sklearn for comparison,\n",
        "# we could run the following code:\n",
        "\n",
        "# from sklearn.metrics import mean_squared_error\n",
        "\n",
        "# MSE_train = []\n",
        "# MSE_test = []\n",
        "\n",
        "# for a in alpha_values:\n",
        "#     model_ridge = lm.Ridge(alpha=a*X_train.shape[0], fit_intercept = False)\n",
        "#     model_ridge.fit(X_train,Y_train)\n",
        "\n",
        "#     resid_train = Y_train - model_ridge.predict(X_train)\n",
        "#     resid_test = Y_test - model_ridge.predict(X_test)\n",
        "\n",
        "#     #MSE_train.append((np.linalg.norm(resid_train))**2 / X_train.shape[0])\n",
        "#     #MSE_test.append((np.linalg.norm(resid_test))**2 / X_test.shape[0])\n",
        "\n",
        "#     MSE_train.append(mean_squared_error(Y_train, model_ridge.predict(X_train)))\n",
        "#     MSE_test.append(mean_squared_error(Y_test, model_ridge.predict(X_test)))\n",
        "\n",
        "# plt.plot(alpha_values, MSE_train)\n",
        "# plt.plot(alpha_values, MSE_test)\n",
        "\n",
        "# plt.xscale('log')\n",
        "\n",
        "# plt.show()"
      ]
    },
    {
      "cell_type": "markdown",
      "metadata": {
        "id": "587A3oYafoAE"
      },
      "source": [
        "**c)** Now, we show and store the R2 coefficient for the best performing value of $\\alpha$ (that is, the one with smallest training error)."
      ]
    },
    {
      "cell_type": "code",
      "execution_count": null,
      "metadata": {
        "id": "BbOgugkbfrrV",
        "colab": {
          "base_uri": "https://localhost:8080/"
        },
        "outputId": "68ac678a-a073-4478-e089-6996be8e7d44"
      },
      "outputs": [
        {
          "output_type": "stream",
          "name": "stdout",
          "text": [
            "R2 coefficient (with test set) for the best performing value of alpha:  0.968268818363987\n",
            "R2 coefficient (with train set) for the best performing value of alpha:  0.9922392664103784\n"
          ]
        }
      ],
      "source": [
        "coefs = ridge_coefs(X_train, Y_train, alpha_values[minimizer_index])\n",
        "\n",
        "R_squared_test = r2_score(Y_test, X_test @ coefs)\n",
        "R_squared_train = r2_score(Y_train, X_train @ coefs)\n",
        "\n",
        "print(\"R2 coefficient (with test set) for the best performing value of alpha: \",\n",
        "      R_squared_test)\n",
        "print(\"R2 coefficient (with train set) for the best performing value of alpha: \",\n",
        "      R_squared_train)"
      ]
    },
    {
      "cell_type": "code",
      "source": [
        "# Storing the R2 coefficient in the DataFrame for comparison\n",
        "df_coef.loc['Exercise 5 - Ridge ','R2 values (test)'] = R_squared_test\n",
        "df_coef.loc['Exercise 5 - Ridge ','R2 values (train)'] = R_squared_train\n",
        "\n",
        "df_coef"
      ],
      "metadata": {
        "colab": {
          "base_uri": "https://localhost:8080/",
          "height": 175
        },
        "id": "nReEaPd5sbbO",
        "outputId": "2df18faa-e2b4-4723-f1a6-69b94ec107c9"
      },
      "execution_count": null,
      "outputs": [
        {
          "output_type": "execute_result",
          "data": {
            "text/plain": [
              "                                                    R2 values (test)  \\\n",
              "Exercise 1 - Regular OLS                                    0.960055   \n",
              "Exercise 3 - OLS with Variable Selection                    0.127139   \n",
              "Exercise 4 - OLS with sklearn's variable selection          0.127139   \n",
              "Exercise 5 - Ridge                                          0.968269   \n",
              "\n",
              "                                                    R2 values (train)  \n",
              "Exercise 1 - Regular OLS                                     0.995789  \n",
              "Exercise 3 - OLS with Variable Selection                     0.314698  \n",
              "Exercise 4 - OLS with sklearn's variable selection           0.314698  \n",
              "Exercise 5 - Ridge                                           0.992239  "
            ],
            "text/html": [
              "\n",
              "  <div id=\"df-42853a14-3b6f-45bf-b63c-391a54184887\">\n",
              "    <div class=\"colab-df-container\">\n",
              "      <div>\n",
              "<style scoped>\n",
              "    .dataframe tbody tr th:only-of-type {\n",
              "        vertical-align: middle;\n",
              "    }\n",
              "\n",
              "    .dataframe tbody tr th {\n",
              "        vertical-align: top;\n",
              "    }\n",
              "\n",
              "    .dataframe thead th {\n",
              "        text-align: right;\n",
              "    }\n",
              "</style>\n",
              "<table border=\"1\" class=\"dataframe\">\n",
              "  <thead>\n",
              "    <tr style=\"text-align: right;\">\n",
              "      <th></th>\n",
              "      <th>R2 values (test)</th>\n",
              "      <th>R2 values (train)</th>\n",
              "    </tr>\n",
              "  </thead>\n",
              "  <tbody>\n",
              "    <tr>\n",
              "      <th>Exercise 1 - Regular OLS</th>\n",
              "      <td>0.960055</td>\n",
              "      <td>0.995789</td>\n",
              "    </tr>\n",
              "    <tr>\n",
              "      <th>Exercise 3 - OLS with Variable Selection</th>\n",
              "      <td>0.127139</td>\n",
              "      <td>0.314698</td>\n",
              "    </tr>\n",
              "    <tr>\n",
              "      <th>Exercise 4 - OLS with sklearn's variable selection</th>\n",
              "      <td>0.127139</td>\n",
              "      <td>0.314698</td>\n",
              "    </tr>\n",
              "    <tr>\n",
              "      <th>Exercise 5 - Ridge</th>\n",
              "      <td>0.968269</td>\n",
              "      <td>0.992239</td>\n",
              "    </tr>\n",
              "  </tbody>\n",
              "</table>\n",
              "</div>\n",
              "      <button class=\"colab-df-convert\" onclick=\"convertToInteractive('df-42853a14-3b6f-45bf-b63c-391a54184887')\"\n",
              "              title=\"Convert this dataframe to an interactive table.\"\n",
              "              style=\"display:none;\">\n",
              "        \n",
              "  <svg xmlns=\"http://www.w3.org/2000/svg\" height=\"24px\"viewBox=\"0 0 24 24\"\n",
              "       width=\"24px\">\n",
              "    <path d=\"M0 0h24v24H0V0z\" fill=\"none\"/>\n",
              "    <path d=\"M18.56 5.44l.94 2.06.94-2.06 2.06-.94-2.06-.94-.94-2.06-.94 2.06-2.06.94zm-11 1L8.5 8.5l.94-2.06 2.06-.94-2.06-.94L8.5 2.5l-.94 2.06-2.06.94zm10 10l.94 2.06.94-2.06 2.06-.94-2.06-.94-.94-2.06-.94 2.06-2.06.94z\"/><path d=\"M17.41 7.96l-1.37-1.37c-.4-.4-.92-.59-1.43-.59-.52 0-1.04.2-1.43.59L10.3 9.45l-7.72 7.72c-.78.78-.78 2.05 0 2.83L4 21.41c.39.39.9.59 1.41.59.51 0 1.02-.2 1.41-.59l7.78-7.78 2.81-2.81c.8-.78.8-2.07 0-2.86zM5.41 20L4 18.59l7.72-7.72 1.47 1.35L5.41 20z\"/>\n",
              "  </svg>\n",
              "      </button>\n",
              "      \n",
              "  <style>\n",
              "    .colab-df-container {\n",
              "      display:flex;\n",
              "      flex-wrap:wrap;\n",
              "      gap: 12px;\n",
              "    }\n",
              "\n",
              "    .colab-df-convert {\n",
              "      background-color: #E8F0FE;\n",
              "      border: none;\n",
              "      border-radius: 50%;\n",
              "      cursor: pointer;\n",
              "      display: none;\n",
              "      fill: #1967D2;\n",
              "      height: 32px;\n",
              "      padding: 0 0 0 0;\n",
              "      width: 32px;\n",
              "    }\n",
              "\n",
              "    .colab-df-convert:hover {\n",
              "      background-color: #E2EBFA;\n",
              "      box-shadow: 0px 1px 2px rgba(60, 64, 67, 0.3), 0px 1px 3px 1px rgba(60, 64, 67, 0.15);\n",
              "      fill: #174EA6;\n",
              "    }\n",
              "\n",
              "    [theme=dark] .colab-df-convert {\n",
              "      background-color: #3B4455;\n",
              "      fill: #D2E3FC;\n",
              "    }\n",
              "\n",
              "    [theme=dark] .colab-df-convert:hover {\n",
              "      background-color: #434B5C;\n",
              "      box-shadow: 0px 1px 3px 1px rgba(0, 0, 0, 0.15);\n",
              "      filter: drop-shadow(0px 1px 2px rgba(0, 0, 0, 0.3));\n",
              "      fill: #FFFFFF;\n",
              "    }\n",
              "  </style>\n",
              "\n",
              "      <script>\n",
              "        const buttonEl =\n",
              "          document.querySelector('#df-42853a14-3b6f-45bf-b63c-391a54184887 button.colab-df-convert');\n",
              "        buttonEl.style.display =\n",
              "          google.colab.kernel.accessAllowed ? 'block' : 'none';\n",
              "\n",
              "        async function convertToInteractive(key) {\n",
              "          const element = document.querySelector('#df-42853a14-3b6f-45bf-b63c-391a54184887');\n",
              "          const dataTable =\n",
              "            await google.colab.kernel.invokeFunction('convertToInteractive',\n",
              "                                                     [key], {});\n",
              "          if (!dataTable) return;\n",
              "\n",
              "          const docLinkHtml = 'Like what you see? Visit the ' +\n",
              "            '<a target=\"_blank\" href=https://colab.research.google.com/notebooks/data_table.ipynb>data table notebook</a>'\n",
              "            + ' to learn more about interactive tables.';\n",
              "          element.innerHTML = '';\n",
              "          dataTable['output_type'] = 'display_data';\n",
              "          await google.colab.output.renderOutput(dataTable, element);\n",
              "          const docLink = document.createElement('div');\n",
              "          docLink.innerHTML = docLinkHtml;\n",
              "          element.appendChild(docLink);\n",
              "        }\n",
              "      </script>\n",
              "    </div>\n",
              "  </div>\n",
              "  "
            ]
          },
          "metadata": {},
          "execution_count": 31
        }
      ]
    },
    {
      "cell_type": "markdown",
      "metadata": {
        "id": "RRP5gc12f_Mf"
      },
      "source": [
        "# **Crossvalidation, Lasso and elastic net**"
      ]
    },
    {
      "cell_type": "markdown",
      "metadata": {
        "id": "zijlQkVMgKyz"
      },
      "source": [
        "## **Exercise 6**"
      ]
    },
    {
      "cell_type": "markdown",
      "source": [
        "In this exercise, we will use a penalty parameter $\\alpha$ evenly spaced on a log scale from $10^{-5}$ to $10^{-2}$."
      ],
      "metadata": {
        "id": "W7CJJo35tWXe"
      }
    },
    {
      "cell_type": "code",
      "execution_count": null,
      "metadata": {
        "id": "yR6uCF4uQSb3"
      },
      "outputs": [],
      "source": [
        "alpha_values = np.logspace(-5, -2)"
      ]
    },
    {
      "cell_type": "markdown",
      "source": [
        "When we execute the next cell (which is commented), we see some warning messages, regarding the non-convergence of the Lasso algorithm:\n",
        "\"``\n",
        "ConvergenceWarning: Objective did not converge. You might want to increase the number of iterations, check the scale of the features or consider increasing regularisation.\n",
        "``\""
      ],
      "metadata": {
        "id": "wCjZK1ZGs68s"
      }
    },
    {
      "cell_type": "code",
      "execution_count": null,
      "metadata": {
        "id": "PbvlfTsagGTV"
      },
      "outputs": [],
      "source": [
        "# for alpha in alpha_values:\n",
        "#     model_lasso = lm.Lasso(alpha, fit_intercept = False)\n",
        "#     model_lasso.fit(X_train, Y_train)"
      ]
    },
    {
      "cell_type": "markdown",
      "metadata": {
        "id": "IqvKi_oRl7SN"
      },
      "source": [
        "**a)** The warning messages arise due to the fact that the Lasso algorithm was not able to converge, using the default values for tolerance (``tol``) and maximum number of iterations (``max_iter``). The Lasso method is based on an iterative process: for example, at each iteration, the value of the coefficients of the model are updated, and, as the number of iterations increase, those values tend to converge.\n",
        "\n",
        "To stop the iterations, the algorithm tests if the difference between the value of the dual gap for optimality of two consecutive iterations is smaller than ``tol``. If the maximum number of iterations that we chose is not sufficient to make the difference smaller than the tolerance, then the algorithm provides the non-convergence warning messages.\n",
        "\n",
        "In order to avoid the warning messages, we will try to increase the maximum number of iterations and the tolerance (``max_iter`` and ``tol`` parameters, respectively). The default value of ``max_iter`` is 1000; The default value of ``tol`` is 0.0001. Let us increase ``max_iter`` to 5 million ($5\\times10^6$) and ``tol`` to 0.05."
      ]
    },
    {
      "cell_type": "code",
      "execution_count": null,
      "metadata": {
        "id": "6hMrh4WTnjnr"
      },
      "outputs": [],
      "source": [
        "number_non_zero_coeffs = []\n",
        "\n",
        "lasso_coeffs = []   # List to store the Lasso coefficients for each alpha\n",
        "                    # (It will be useful in question 6-d)\n",
        "\n",
        "MSE_train = []  # List to store the MSE (with train set) for each alpha\n",
        "MSE_test = []   # List to store the MSE (with test set) for each alpha\n",
        "\n",
        "for alpha in alpha_values:\n",
        "    model_lasso = lm.Lasso(alpha, fit_intercept = False,\n",
        "                           max_iter = 5_000_000, tol = 0.05)\n",
        "\n",
        "    model_lasso.fit(X_train, Y_train)\n",
        "\n",
        "    number_non_zero_coeffs.append(sum(np.abs(model_lasso.coef_) > 1e-6))\n",
        "\n",
        "    coefs = model_lasso.coef_\n",
        "\n",
        "    lasso_coeffs.append(coefs)\n",
        "\n",
        "    resid_train = Y_train - X_train @ (coefs.reshape(-1, 1))\n",
        "    resid_test = Y_test - X_test @ (coefs.reshape(-1, 1))\n",
        "\n",
        "    MSE_train.append((np.linalg.norm(resid_train))**2 / X_train.shape[0])\n",
        "    MSE_test.append((np.linalg.norm(resid_test))**2 / X_test.shape[0])"
      ]
    },
    {
      "cell_type": "markdown",
      "metadata": {
        "id": "VInNfXeeaNfl"
      },
      "source": [
        "**b)** In the following, we plot the number of non-null coefficients for each value of $\\alpha$:"
      ]
    },
    {
      "cell_type": "code",
      "execution_count": null,
      "metadata": {
        "colab": {
          "base_uri": "https://localhost:8080/",
          "height": 413
        },
        "id": "XMVszB6caNOh",
        "outputId": "e8ad0880-d897-4e4a-db6f-b02bc413390f"
      },
      "outputs": [
        {
          "output_type": "display_data",
          "data": {
            "text/plain": [
              "<Figure size 720x432 with 1 Axes>"
            ],
            "image/png": "[encoded data removed]"
          },
          "metadata": {
            "needs_background": "light"
          }
        }
      ],
      "source": [
        "plt.figure(figsize=(10, 6))\n",
        "\n",
        "plt.plot(alpha_values, number_non_zero_coeffs, linewidth=2)\n",
        "\n",
        "plt.xscale('log')\n",
        "plt.title(r'Non-zero coefficients for the Lasso model for each $\\alpha$')\n",
        "plt.xlabel(r'Penalty parameter, $\\alpha$')\n",
        "plt.ylabel(r'Number of non-zero coefficients')\n",
        "\n",
        "plt.show()"
      ]
    },
    {
      "cell_type": "markdown",
      "metadata": {
        "id": "e03HovOPebZ7"
      },
      "source": [
        "**c)** Now, we plot how the mean squared error (MSE) of both the train and test sets change with $\\alpha$. We indicate the minimum of the training MSE with a point."
      ]
    },
    {
      "cell_type": "code",
      "execution_count": null,
      "metadata": {
        "colab": {
          "base_uri": "https://localhost:8080/",
          "height": 414
        },
        "id": "BLHNGI7LebvE",
        "outputId": "7fa3031f-49d4-4101-e9d3-e5dcad779473"
      },
      "outputs": [
        {
          "output_type": "display_data",
          "data": {
            "text/plain": [
              "<Figure size 720x432 with 1 Axes>"
            ],
            "image/png": "[encoded data removed]"
          },
          "metadata": {
            "needs_background": "light"
          }
        }
      ],
      "source": [
        "# Obtention of the index of the training MSE minimizer\n",
        "minimizer_index = np.argmin(MSE_train)\n",
        "\n",
        "#Plotting the MSE curves\n",
        "\n",
        "plt.figure(figsize=(10, 6))\n",
        "\n",
        "plt.plot(alpha_values, MSE_train, label='MSE for the train set', linewidth=2)\n",
        "plt.plot(alpha_values, MSE_test, label='MSE for the test set', linewidth=2,\n",
        "         linestyle='dashed')\n",
        "\n",
        "plt.scatter(alpha_values[minimizer_index], MSE_train[minimizer_index],\n",
        "            color = 'red', linewidth = 2, label = 'Training MSE minimum')\n",
        "\n",
        "plt.xscale('log')\n",
        "plt.title(r'Variation of MSE accordingly to parameter $\\alpha$')\n",
        "plt.xlabel(r'Penalty parameter, $\\alpha$')\n",
        "plt.ylabel(r'Mean Square Error, MSE')\n",
        "plt.legend()\n",
        "\n",
        "plt.show()"
      ]
    },
    {
      "cell_type": "markdown",
      "metadata": {
        "id": "000gFPTBkz3A"
      },
      "source": [
        "**d)** Now, we show and store the R2 coefficient for the best performing value of $\\alpha$ :"
      ]
    },
    {
      "cell_type": "code",
      "execution_count": null,
      "metadata": {
        "id": "4Cl33K0Pk3jK",
        "colab": {
          "base_uri": "https://localhost:8080/"
        },
        "outputId": "c019a998-9006-4c53-e0cb-0baece6e95f3"
      },
      "outputs": [
        {
          "output_type": "stream",
          "name": "stdout",
          "text": [
            "R2 score (with test set) for the best performing value of alpha:  0.9258823053406563\n",
            "R2 score (with train set) for the best performing value of alpha:  0.9436707887723057\n"
          ]
        }
      ],
      "source": [
        "# # Training the Lasso model with the best performing alpha\n",
        "# model_lasso = lm.Lasso(alpha_values[minimizer_index],\n",
        "#                        fit_intercept = False,\n",
        "#                        max_iter = 5_000_000, tol = 0.005)\n",
        "# model_lasso.fit(X_train, Y_train)\n",
        "\n",
        "coefs_best_alpha = lasso_coeffs[minimizer_index]\n",
        "\n",
        "R_squared_test = r2_score(Y_test, X_test @ coefs_best_alpha)\n",
        "R_squared_train = r2_score(Y_train, X_train @ coefs_best_alpha)\n",
        "\n",
        "print(\"R2 score (with test set) for the best performing value of alpha: \",\n",
        "      R_squared_test)\n",
        "print(\"R2 score (with train set) for the best performing value of alpha: \",\n",
        "      R_squared_train)"
      ]
    },
    {
      "cell_type": "code",
      "source": [
        "# Storing the R2 coefficient in the DataFrame for comparison\n",
        "df_coef.loc['Exercise 6 - Lasso ','R2 values (test)'] = R_squared_test\n",
        "df_coef.loc['Exercise 6 - Lasso ','R2 values (train)'] = R_squared_train\n",
        "df_coef"
      ],
      "metadata": {
        "colab": {
          "base_uri": "https://localhost:8080/",
          "height": 206
        },
        "id": "raMiZWvmuiPL",
        "outputId": "ea3e2998-a581-4382-f71a-39453663ee18"
      },
      "execution_count": null,
      "outputs": [
        {
          "output_type": "execute_result",
          "data": {
            "text/plain": [
              "                                                    R2 values (test)  \\\n",
              "Exercise 1 - Regular OLS                                    0.960055   \n",
              "Exercise 3 - OLS with Variable Selection                    0.127139   \n",
              "Exercise 4 - OLS with sklearn's variable selection          0.127139   \n",
              "Exercise 5 - Ridge                                          0.968269   \n",
              "Exercise 6 - Lasso                                          0.925882   \n",
              "\n",
              "                                                    R2 values (train)  \n",
              "Exercise 1 - Regular OLS                                     0.995789  \n",
              "Exercise 3 - OLS with Variable Selection                     0.314698  \n",
              "Exercise 4 - OLS with sklearn's variable selection           0.314698  \n",
              "Exercise 5 - Ridge                                           0.992239  \n",
              "Exercise 6 - Lasso                                           0.943671  "
            ],
            "text/html": [
              "\n",
              "  <div id=\"df-32d98c80-7d22-42e4-83a0-c3165340fd11\">\n",
              "    <div class=\"colab-df-container\">\n",
              "      <div>\n",
              "<style scoped>\n",
              "    .dataframe tbody tr th:only-of-type {\n",
              "        vertical-align: middle;\n",
              "    }\n",
              "\n",
              "    .dataframe tbody tr th {\n",
              "        vertical-align: top;\n",
              "    }\n",
              "\n",
              "    .dataframe thead th {\n",
              "        text-align: right;\n",
              "    }\n",
              "</style>\n",
              "<table border=\"1\" class=\"dataframe\">\n",
              "  <thead>\n",
              "    <tr style=\"text-align: right;\">\n",
              "      <th></th>\n",
              "      <th>R2 values (test)</th>\n",
              "      <th>R2 values (train)</th>\n",
              "    </tr>\n",
              "  </thead>\n",
              "  <tbody>\n",
              "    <tr>\n",
              "      <th>Exercise 1 - Regular OLS</th>\n",
              "      <td>0.960055</td>\n",
              "      <td>0.995789</td>\n",
              "    </tr>\n",
              "    <tr>\n",
              "      <th>Exercise 3 - OLS with Variable Selection</th>\n",
              "      <td>0.127139</td>\n",
              "      <td>0.314698</td>\n",
              "    </tr>\n",
              "    <tr>\n",
              "      <th>Exercise 4 - OLS with sklearn's variable selection</th>\n",
              "      <td>0.127139</td>\n",
              "      <td>0.314698</td>\n",
              "    </tr>\n",
              "    <tr>\n",
              "      <th>Exercise 5 - Ridge</th>\n",
              "      <td>0.968269</td>\n",
              "      <td>0.992239</td>\n",
              "    </tr>\n",
              "    <tr>\n",
              "      <th>Exercise 6 - Lasso</th>\n",
              "      <td>0.925882</td>\n",
              "      <td>0.943671</td>\n",
              "    </tr>\n",
              "  </tbody>\n",
              "</table>\n",
              "</div>\n",
              "      <button class=\"colab-df-convert\" onclick=\"convertToInteractive('df-32d98c80-7d22-42e4-83a0-c3165340fd11')\"\n",
              "              title=\"Convert this dataframe to an interactive table.\"\n",
              "              style=\"display:none;\">\n",
              "        \n",
              "  <svg xmlns=\"http://www.w3.org/2000/svg\" height=\"24px\"viewBox=\"0 0 24 24\"\n",
              "       width=\"24px\">\n",
              "    <path d=\"M0 0h24v24H0V0z\" fill=\"none\"/>\n",
              "    <path d=\"M18.56 5.44l.94 2.06.94-2.06 2.06-.94-2.06-.94-.94-2.06-.94 2.06-2.06.94zm-11 1L8.5 8.5l.94-2.06 2.06-.94-2.06-.94L8.5 2.5l-.94 2.06-2.06.94zm10 10l.94 2.06.94-2.06 2.06-.94-2.06-.94-.94-2.06-.94 2.06-2.06.94z\"/><path d=\"M17.41 7.96l-1.37-1.37c-.4-.4-.92-.59-1.43-.59-.52 0-1.04.2-1.43.59L10.3 9.45l-7.72 7.72c-.78.78-.78 2.05 0 2.83L4 21.41c.39.39.9.59 1.41.59.51 0 1.02-.2 1.41-.59l7.78-7.78 2.81-2.81c.8-.78.8-2.07 0-2.86zM5.41 20L4 18.59l7.72-7.72 1.47 1.35L5.41 20z\"/>\n",
              "  </svg>\n",
              "      </button>\n",
              "      \n",
              "  <style>\n",
              "    .colab-df-container {\n",
              "      display:flex;\n",
              "      flex-wrap:wrap;\n",
              "      gap: 12px;\n",
              "    }\n",
              "\n",
              "    .colab-df-convert {\n",
              "      background-color: #E8F0FE;\n",
              "      border: none;\n",
              "      border-radius: 50%;\n",
              "      cursor: pointer;\n",
              "      display: none;\n",
              "      fill: #1967D2;\n",
              "      height: 32px;\n",
              "      padding: 0 0 0 0;\n",
              "      width: 32px;\n",
              "    }\n",
              "\n",
              "    .colab-df-convert:hover {\n",
              "      background-color: #E2EBFA;\n",
              "      box-shadow: 0px 1px 2px rgba(60, 64, 67, 0.3), 0px 1px 3px 1px rgba(60, 64, 67, 0.15);\n",
              "      fill: #174EA6;\n",
              "    }\n",
              "\n",
              "    [theme=dark] .colab-df-convert {\n",
              "      background-color: #3B4455;\n",
              "      fill: #D2E3FC;\n",
              "    }\n",
              "\n",
              "    [theme=dark] .colab-df-convert:hover {\n",
              "      background-color: #434B5C;\n",
              "      box-shadow: 0px 1px 3px 1px rgba(0, 0, 0, 0.15);\n",
              "      filter: drop-shadow(0px 1px 2px rgba(0, 0, 0, 0.3));\n",
              "      fill: #FFFFFF;\n",
              "    }\n",
              "  </style>\n",
              "\n",
              "      <script>\n",
              "        const buttonEl =\n",
              "          document.querySelector('#df-32d98c80-7d22-42e4-83a0-c3165340fd11 button.colab-df-convert');\n",
              "        buttonEl.style.display =\n",
              "          google.colab.kernel.accessAllowed ? 'block' : 'none';\n",
              "\n",
              "        async function convertToInteractive(key) {\n",
              "          const element = document.querySelector('#df-32d98c80-7d22-42e4-83a0-c3165340fd11');\n",
              "          const dataTable =\n",
              "            await google.colab.kernel.invokeFunction('convertToInteractive',\n",
              "                                                     [key], {});\n",
              "          if (!dataTable) return;\n",
              "\n",
              "          const docLinkHtml = 'Like what you see? Visit the ' +\n",
              "            '<a target=\"_blank\" href=https://colab.research.google.com/notebooks/data_table.ipynb>data table notebook</a>'\n",
              "            + ' to learn more about interactive tables.';\n",
              "          element.innerHTML = '';\n",
              "          dataTable['output_type'] = 'display_data';\n",
              "          await google.colab.output.renderOutput(dataTable, element);\n",
              "          const docLink = document.createElement('div');\n",
              "          docLink.innerHTML = docLinkHtml;\n",
              "          element.appendChild(docLink);\n",
              "        }\n",
              "      </script>\n",
              "    </div>\n",
              "  </div>\n",
              "  "
            ]
          },
          "metadata": {},
          "execution_count": 38
        }
      ]
    },
    {
      "cell_type": "markdown",
      "metadata": {
        "id": "JH1gwG7VxGt_"
      },
      "source": [
        "## **Exercise 7**"
      ]
    },
    {
      "cell_type": "markdown",
      "source": [
        "Now, we code our **_crossvalidation_** algorithm. One should notice that the length of two different folds differ at most by one. We use the ``sklearn`` implementation of Elastic Net. As penalty parameters, we consider an $\\alpha$-ridge evenly spaced on a log scale from $10^{-10}$ to $10^{3}$, and an $\\alpha$-lasso in [0, 0.1, 0.5, 0.7, 0.9, 0.95, 0.99].\n",
        "\n",
        "Firstly, we write the code to create the $K$ folds. We will use $K = 10$:"
      ],
      "metadata": {
        "id": "bJ8-XbDW2ePt"
      }
    },
    {
      "cell_type": "code",
      "execution_count": null,
      "metadata": {
        "id": "lo0dG2tJxKi8"
      },
      "outputs": [],
      "source": [
        "K = 10   # Number of folds\n",
        "\n",
        "size_fold = n // K\n",
        "remainder = n % K\n",
        "\n",
        "folds_indexes = [0 for k in range(K)]\n",
        "\n",
        "begin_index = 0\n",
        "\n",
        "# Distributing the samples in each fold, respecting the restriction that\n",
        "# the length of two different folds differ at most by one\n",
        "for k in range(K):\n",
        "    if (k+1 <= remainder):\n",
        "        folds_indexes[k] = list(range(begin_index, begin_index + size_fold + 1))\n",
        "        begin_index += size_fold + 1\n",
        "    else:\n",
        "        folds_indexes[k] = list(range(begin_index, begin_index + size_fold))\n",
        "        begin_index += size_fold\n",
        "\n",
        "    # print(folds_indexes[k],\"   \", len(folds_indexes[k]))"
      ]
    },
    {
      "cell_type": "markdown",
      "source": [
        "Now, we code the crossvalidation and test it with an Elastic Net model:"
      ],
      "metadata": {
        "id": "gQ8EqVBQ-BIX"
      }
    },
    {
      "cell_type": "code",
      "execution_count": null,
      "metadata": {
        "id": "LoYfoiuSgw1d"
      },
      "outputs": [],
      "source": [
        "alpha_ridge_values = np.logspace(-10, 3)\n",
        "alpha_lasso_values = [0, 0.1, 0.5, 0.7, 0.9, 0.95, 0.99]\n",
        "\n",
        "# Creation of a dictionary to store the MSE associated to each pair\n",
        "# of regularization parameter (alpha_ridge, alpha_lasso)\n",
        "errors_CV = {}\n",
        "for alpha_lasso in alpha_lasso_values:\n",
        "    for alpha_ridge in alpha_ridge_values:\n",
        "        errors_CV[(alpha_ridge, alpha_lasso)] = 0\n",
        "\n",
        "for k in range(K):\n",
        "    for alpha_lasso in alpha_lasso_values:\n",
        "        for alpha_ridge in alpha_ridge_values:\n",
        "\n",
        "            model_elastic_net = ElasticNet(alpha = alpha_lasso + 2*alpha_ridge,\n",
        "                                        l1_ratio = alpha_lasso/(alpha_lasso + 2*alpha_ridge),\n",
        "                                        fit_intercept = False,\n",
        "                                        max_iter = 1_000_000,\n",
        "                                        tol = 0.5,\n",
        "                                        random_state=0)\n",
        "\n",
        "            # Fitting the Elastic Net model with the pair of regularization\n",
        "            # parameters (alpha_ridge, alpha_lasso)\n",
        "            model_elastic_net.fit(X_train[folds_indexes[k], :],\n",
        "                                  Y_train[folds_indexes[k]])\n",
        "\n",
        "            # List to store the indexes of the samples in the validation set\n",
        "            # (i.e. the indexes that are not in the current fold)\n",
        "            validation_indexes = [i for i in range(X_train.shape[0])\n",
        "                                  if i not in folds_indexes[k]]\n",
        "\n",
        "            # Predicted output\n",
        "            Y_pred = model_elastic_net.predict(X_train[validation_indexes, :])\n",
        "\n",
        "            # Calculating the MSE (for the current fold and for each pair of\n",
        "            # regularization parameters) and storing it\n",
        "            # (Note: to store the MSE, we divide it by K because)\n",
        "            MSE = mean_squared_error(Y_train[validation_indexes], Y_pred)\n",
        "\n",
        "            errors_CV[(alpha_ridge, alpha_lasso)] += MSE / K\n",
        "\n",
        "            # print((alpha_ridge,alpha_lasso), \":\", MSE / K)"
      ]
    },
    {
      "cell_type": "markdown",
      "source": [
        "Finally, we plot the results of the crossvalidation tested with the regularization parameters proposed:"
      ],
      "metadata": {
        "id": "QiOtLFOR-_Oh"
      }
    },
    {
      "cell_type": "code",
      "source": [
        "plt.figure(figsize=(10,6))\n",
        "\n",
        "for alpha_lasso in alpha_lasso_values:\n",
        "    MSE_curve = []\n",
        "    for alpha_ridge in alpha_ridge_values:\n",
        "        MSE_curve.append(errors_CV[alpha_ridge, alpha_lasso])\n",
        "    plt.plot(alpha_ridge_values, MSE_curve,\n",
        "             label=r'$\\alpha$-lasso = '+str(alpha_lasso))\n",
        "\n",
        "plt.xscale('log')\n",
        "\n",
        "plt.title(r'MSE variation with $\\alpha$-ridge and $\\alpha$-lasso')\n",
        "plt.xlabel(r'Ridge regularization parameter, $\\alpha$-ridge')\n",
        "plt.ylabel('MSE')\n",
        "\n",
        "plt.legend(bbox_to_anchor=(1, 1), loc='upper left', ncol=1)\n",
        "plt.show()"
      ],
      "metadata": {
        "colab": {
          "base_uri": "https://localhost:8080/",
          "height": 414
        },
        "id": "tA0J8uar5q-2",
        "outputId": "a3f0b57f-cb39-4c53-fa65-6be5b2ee2139"
      },
      "execution_count": null,
      "outputs": [
        {
          "output_type": "display_data",
          "data": {
            "text/plain": [
              "<Figure size 720x432 with 1 Axes>"
            ],
            "image/png": "[encoded data removed]"
          },
          "metadata": {
            "needs_background": "light"
          }
        }
      ]
    },
    {
      "cell_type": "markdown",
      "metadata": {
        "id": "iR0WRS-5xbJ0"
      },
      "source": [
        "# **Bootstrap**"
      ]
    },
    {
      "cell_type": "markdown",
      "metadata": {
        "id": "--3vGgBhxK6c"
      },
      "source": [
        "## **Exercise 8**"
      ]
    },
    {
      "cell_type": "markdown",
      "source": [
        "We will consider only the variable of index 40 of the original *non-centered* dataset (this variable corresponds to the column ``V41``). We fit an OLS model with intercept, and then we plot the data points and the regression line that was fitted:"
      ],
      "metadata": {
        "id": "MskToC2K3f2G"
      }
    },
    {
      "cell_type": "code",
      "execution_count": null,
      "metadata": {
        "id": "hkAfBrp7xLeL",
        "colab": {
          "base_uri": "https://localhost:8080/",
          "height": 404
        },
        "outputId": "563228ab-d278-4199-b4a6-23160a9c9383"
      },
      "outputs": [
        {
          "output_type": "display_data",
          "data": {
            "text/plain": [
              "<Figure size 720x432 with 1 Axes>"
            ],
            "image/png": "[encoded data removed]"
          },
          "metadata": {
            "needs_background": "light"
          }
        }
      ],
      "source": [
        "# Variable of index 40 (V41) of the original dataset (non-centered)\n",
        "V41_nc = X[:, 40]\n",
        "\n",
        "# Obtaining the OLS model (considering an intercept)\n",
        "model = sm.OLS(Y, sm.add_constant(V41_nc)).fit()\n",
        "\n",
        "# Vector of coefficients (theta_0, theta_1) of the OLS fitted with V41\n",
        "theta = model.params\n",
        "\n",
        "# Plotting the dataset and the regression line\n",
        "plt.figure(figsize=(10, 6))\n",
        "plt.scatter(V41_nc, Y, label = 'Data points')\n",
        "plt.plot(V41_nc, sm.add_constant(V41_nc) @ theta, label = 'Fitted OLS line',\n",
        "         color='red', linewidth = 2)\n",
        "\n",
        "plt.title('Comparison between data points and OLS regression line')\n",
        "plt.xlabel('Input')\n",
        "plt.ylabel('Output')\n",
        "\n",
        "plt.legend()\n",
        "plt.show()"
      ]
    },
    {
      "cell_type": "code",
      "source": [
        "# For the creation of the prediction interval\n",
        "\n",
        "# We consider a confidence level given by an alpha equal to 0.05\n",
        "alpha_pred_interv = 0.05\n",
        "\n",
        "Y_pred = (sm.add_constant(V41_nc) @ theta).reshape(-1,1)\n",
        "\n",
        "sigma_sq = ( 1/(V41_nc.shape[0] - 2) ) * np.sum((Y - Y_pred)**2)\n",
        "\n",
        "diff_squared = (V41_nc - np.mean(V41_nc))**2\n",
        "\n",
        "aux_term = np.sqrt(1 + 1/V41_nc.shape[0] + diff_squared / np.sum(diff_squared))\n",
        "aux_term = aux_term.reshape(-1,1)\n",
        "\n",
        "PI_inf = Y_pred + stat.t.ppf(1-alpha_pred_interv/2, df=V41_nc.shape[0]-2) * np.sqrt(sigma_sq) * aux_term\n",
        "\n",
        "PI_sup = Y_pred - stat.t.ppf(1-alpha_pred_interv/2, df=V41_nc.shape[0]-2) * np.sqrt(sigma_sq) * aux_term"
      ],
      "metadata": {
        "id": "_zzgP-b3E7SH"
      },
      "execution_count": null,
      "outputs": []
    },
    {
      "cell_type": "markdown",
      "source": [
        "Implementation of the **bootstrap** algorithm:"
      ],
      "metadata": {
        "id": "kCu6O4aQIdBG"
      }
    },
    {
      "cell_type": "code",
      "source": [
        "# Number of bootstrap samples\n",
        "B = 50\n",
        "\n",
        "theta_values_bootstrap = []\n",
        "\n",
        "plt.figure(figsize=(10, 6))\n",
        "\n",
        "for i in range(B):\n",
        "\n",
        "    indexes = np.random.randint(0, V41_nc.shape[0], V41_nc.shape[0])\n",
        "\n",
        "    # Obtaining the OLS model\n",
        "    model_bootstrap = sm.OLS(Y[indexes], sm.add_constant(V41_nc[indexes])).fit()\n",
        "\n",
        "    # Vector of parameters (theta_0, theta_1)\n",
        "    theta = model_bootstrap.params\n",
        "\n",
        "    plt.plot(V41_nc, sm.add_constant(V41_nc) @ theta, alpha = 0.4)\n",
        "\n",
        "\n",
        "plt.plot(V41_nc, PI_inf, color ='red', label='Prediction interval')\n",
        "plt.plot(V41_nc, PI_sup, color = 'red')\n",
        "plt.scatter(V41_nc, Y, label = 'Data points')\n",
        "\n",
        "plt.title('Prediction interval and result of the bootstrap')\n",
        "plt.xlabel('Input')\n",
        "plt.ylabel('Output')\n",
        "\n",
        "plt.legend()\n",
        "\n",
        "plt.show()"
      ],
      "metadata": {
        "id": "XRI4lF1k4vzD",
        "colab": {
          "base_uri": "https://localhost:8080/",
          "height": 404
        },
        "outputId": "55db26af-a70d-47de-9ca2-3dfa6dee8e23"
      },
      "execution_count": null,
      "outputs": [
        {
          "output_type": "display_data",
          "data": {
            "text/plain": [
              "<Figure size 720x432 with 1 Axes>"
            ],
            "image/png": "[encoded data removed]"
          },
          "metadata": {
            "needs_background": "light"
          }
        }
      ]
    },
    {
      "cell_type": "markdown",
      "metadata": {
        "id": "Xw0x8M1kxd_H"
      },
      "source": [
        "# **PCA**"
      ]
    },
    {
      "cell_type": "markdown",
      "metadata": {
        "id": "8RU1sK2nxPE6"
      },
      "source": [
        "## **Exercise 9**"
      ]
    },
    {
      "cell_type": "markdown",
      "source": [
        "Firstly, we compute the singular value decomposition of the covariance matrix:"
      ],
      "metadata": {
        "id": "-VdOTqzcTWuC"
      }
    },
    {
      "cell_type": "code",
      "source": [
        "n = X_train.shape[0]    # number of samples in the train set\n",
        "\n",
        "covariance_matrix = (X_train.T @ X_train) / (X_train.shape[0])\n",
        "\n",
        "U, s, V = np.linalg.svd(covariance_matrix)"
      ],
      "metadata": {
        "id": "xTCqUzmxSGXe"
      },
      "execution_count": null,
      "outputs": []
    },
    {
      "cell_type": "markdown",
      "metadata": {
        "id": "FCyNKbPkxWki"
      },
      "source": [
        "**a)** We plot the heatmap of the covariance matrix:"
      ]
    },
    {
      "cell_type": "code",
      "execution_count": null,
      "metadata": {
        "id": "Hvk96lqsxP9g",
        "colab": {
          "base_uri": "https://localhost:8080/",
          "height": 378
        },
        "outputId": "b662ce0b-d77b-47e5-f34c-acc6d42d430d"
      },
      "outputs": [
        {
          "output_type": "display_data",
          "data": {
            "text/plain": [
              "<Figure size 720x432 with 2 Axes>"
            ],
            "image/png": "[encoded data removed]"
          },
          "metadata": {
            "needs_background": "light"
          }
        }
      ],
      "source": [
        "plt.figure(figsize=(10, 6))\n",
        "\n",
        "sns.heatmap(covariance_matrix, cmap='viridis')\n",
        "plt.show()"
      ]
    },
    {
      "cell_type": "markdown",
      "source": [
        "**b)** and **c)**"
      ],
      "metadata": {
        "id": "__oSFYxYRsaB"
      }
    },
    {
      "cell_type": "code",
      "source": [
        "p = X_train.shape[1] # Number of covariates\n",
        "\n",
        "# Calculation of the explained variances\n",
        "\n",
        "principal_components = X_train @ U\n",
        "\n",
        "# Each position k of the list stores the explained variances\n",
        "# for the first k components, with k = 2, 3, ..., p\n",
        "explained_variances = []\n",
        "\n",
        "sum_singular_values = np.sum(s)\n",
        "\n",
        "plt.figure(figsize=(10, 6))\n",
        "\n",
        "for i in range(1, p):\n",
        "    # Calculating and storing the explained variances\n",
        "    explained_variances.append( np.sum(s[:i]) / sum_singular_values )\n",
        "\n",
        "plt.plot(list(range(1,p)),explained_variances)\n",
        "\n",
        "plt.title('Explained variance according to the number (k) of components')\n",
        "plt.xlabel('Number of components, k')\n",
        "plt.ylabel('Explained variance')\n",
        "\n",
        "plt.show()"
      ],
      "metadata": {
        "colab": {
          "base_uri": "https://localhost:8080/",
          "height": 404
        },
        "id": "VFUsatQRRujE",
        "outputId": "057948d2-b6a7-4eff-d44b-9635b0f457ea"
      },
      "execution_count": null,
      "outputs": [
        {
          "output_type": "display_data",
          "data": {
            "text/plain": [
              "<Figure size 720x432 with 1 Axes>"
            ],
            "image/png": "[encoded data removed]"
          },
          "metadata": {
            "needs_background": "light"
          }
        }
      ]
    },
    {
      "cell_type": "markdown",
      "source": [
        "**d)** We plot the projected data on the first 2 PCs, using as color the value of $y$ (from the train set)."
      ],
      "metadata": {
        "id": "GQBXO9URY1GF"
      }
    },
    {
      "cell_type": "code",
      "source": [
        "plt.figure(figsize=(12, 8))\n",
        "\n",
        "plt.scatter(principal_components[:, 0].reshape(-1,1),\n",
        "            principal_components[:, 1].reshape(-1,1),\n",
        "            c = Y_train.reshape(-1))\n",
        "\n",
        "plt.colorbar()\n",
        "\n",
        "plt.title('Projection of data on the first two PCs')\n",
        "\n",
        "plt.xlabel('Principal component 0')\n",
        "plt.ylabel('Principal component 1')\n",
        "\n",
        "plt.show()"
      ],
      "metadata": {
        "colab": {
          "base_uri": "https://localhost:8080/",
          "height": 513
        },
        "id": "pCfIZhQyY2zA",
        "outputId": "77752300-efea-4ecd-93ca-fcf69ecb7da4"
      },
      "execution_count": null,
      "outputs": [
        {
          "output_type": "display_data",
          "data": {
            "text/plain": [
              "<Figure size 864x576 with 2 Axes>"
            ],
            "image/png": "[encoded data removed]"
          },
          "metadata": {
            "needs_background": "light"
          }
        }
      ]
    },
    {
      "cell_type": "markdown",
      "source": [
        "**e)** Now, we run OLS on the projected data using $k$ components. In the sequence, we store the best R2 score in the dataFrame for comparison."
      ],
      "metadata": {
        "id": "iPXFMOaXiOKw"
      }
    },
    {
      "cell_type": "code",
      "source": [
        "r2_list_test = []\n",
        "r2_list_train = []\n",
        "\n",
        "\n",
        "for k in range(1, p):\n",
        "\n",
        "    proj = (X_train @ U)[:,:k]\n",
        "\n",
        "    # Obtaining the OLS model\n",
        "    model = sm.OLS(Y_train, proj).fit()\n",
        "\n",
        "    theta = model.params\n",
        "\n",
        "    # R2 coefficient of the regression\n",
        "    R_squared_test = r2_score(Y_test, ((X_test @ U)[:,:k]) @ theta)\n",
        "    R_squared_train = r2_score(Y_train, ((X_train @ U)[:,:k]) @ theta)\n",
        "\n",
        "    r2_list_test.append(R_squared_test)\n",
        "    r2_list_train.append(R_squared_train)"
      ],
      "metadata": {
        "id": "CILmKs0_iPt8"
      },
      "execution_count": null,
      "outputs": []
    },
    {
      "cell_type": "markdown",
      "source": [
        "We plot the R2 score according to the number $k$ of components:"
      ],
      "metadata": {
        "id": "1kpcHWGcM-_G"
      }
    },
    {
      "cell_type": "code",
      "source": [
        "plt.figure(figsize=(10, 6))\n",
        "\n",
        "plt.plot(list(range(1,p)), r2_list_test)\n",
        "\n",
        "plt.title('R2 score according to the number (k) of components')\n",
        "plt.xlabel('Number of components, k')\n",
        "plt.ylabel('R2 score')\n",
        "\n",
        "plt.show()"
      ],
      "metadata": {
        "colab": {
          "base_uri": "https://localhost:8080/",
          "height": 404
        },
        "id": "Yx3WC6tIlE1k",
        "outputId": "70012e01-421a-4294-84e8-f63c206cbd77"
      },
      "execution_count": null,
      "outputs": [
        {
          "output_type": "display_data",
          "data": {
            "text/plain": [
              "<Figure size 720x432 with 1 Axes>"
            ],
            "image/png": "[encoded data removed]"
          },
          "metadata": {
            "needs_background": "light"
          }
        }
      ]
    },
    {
      "cell_type": "markdown",
      "source": [
        "Now we select the best R2 score (based on the test data), and store it in the dataframe. We also store the R2 score based on the train data, corresponding to the value of $k$ that provided the best R2 score (for test)."
      ],
      "metadata": {
        "id": "LTNgpCvPGFzg"
      }
    },
    {
      "cell_type": "code",
      "source": [
        "k_best = np.argmax(r2_list_test)\n",
        "\n",
        "# Storing the R2 coefficient in the DataFrame for comparison\n",
        "df_coef.loc['Exercise 9 - PCA','R2 values (test)'] = r2_list_test[k_best]\n",
        "df_coef.loc['Exercise 9 - PCA','R2 values (train)'] = r2_list_train[k_best]\n",
        "df_coef"
      ],
      "metadata": {
        "colab": {
          "base_uri": "https://localhost:8080/",
          "height": 237
        },
        "id": "kDqM57CgFU5y",
        "outputId": "dcd478dd-2f35-4f8f-f2c9-8c506de09e38"
      },
      "execution_count": null,
      "outputs": [
        {
          "output_type": "execute_result",
          "data": {
            "text/plain": [
              "                                                    R2 values (test)  \\\n",
              "Exercise 1 - Regular OLS                                    0.960055   \n",
              "Exercise 3 - OLS with Variable Selection                    0.127139   \n",
              "Exercise 4 - OLS with sklearn's variable selection          0.127139   \n",
              "Exercise 5 - Ridge                                          0.968269   \n",
              "Exercise 6 - Lasso                                          0.925882   \n",
              "Exercise 9 - PCA                                            0.977460   \n",
              "\n",
              "                                                    R2 values (train)  \n",
              "Exercise 1 - Regular OLS                                     0.995789  \n",
              "Exercise 3 - OLS with Variable Selection                     0.314698  \n",
              "Exercise 4 - OLS with sklearn's variable selection           0.314698  \n",
              "Exercise 5 - Ridge                                           0.992239  \n",
              "Exercise 6 - Lasso                                           0.943671  \n",
              "Exercise 9 - PCA                                             0.994147  "
            ],
            "text/html": [
              "\n",
              "  <div id=\"df-ed6c777f-89c3-40db-8ea3-3e1cf7f25129\">\n",
              "    <div class=\"colab-df-container\">\n",
              "      <div>\n",
              "<style scoped>\n",
              "    .dataframe tbody tr th:only-of-type {\n",
              "        vertical-align: middle;\n",
              "    }\n",
              "\n",
              "    .dataframe tbody tr th {\n",
              "        vertical-align: top;\n",
              "    }\n",
              "\n",
              "    .dataframe thead th {\n",
              "        text-align: right;\n",
              "    }\n",
              "</style>\n",
              "<table border=\"1\" class=\"dataframe\">\n",
              "  <thead>\n",
              "    <tr style=\"text-align: right;\">\n",
              "      <th></th>\n",
              "      <th>R2 values (test)</th>\n",
              "      <th>R2 values (train)</th>\n",
              "    </tr>\n",
              "  </thead>\n",
              "  <tbody>\n",
              "    <tr>\n",
              "      <th>Exercise 1 - Regular OLS</th>\n",
              "      <td>0.960055</td>\n",
              "      <td>0.995789</td>\n",
              "    </tr>\n",
              "    <tr>\n",
              "      <th>Exercise 3 - OLS with Variable Selection</th>\n",
              "      <td>0.127139</td>\n",
              "      <td>0.314698</td>\n",
              "    </tr>\n",
              "    <tr>\n",
              "      <th>Exercise 4 - OLS with sklearn's variable selection</th>\n",
              "      <td>0.127139</td>\n",
              "      <td>0.314698</td>\n",
              "    </tr>\n",
              "    <tr>\n",
              "      <th>Exercise 5 - Ridge</th>\n",
              "      <td>0.968269</td>\n",
              "      <td>0.992239</td>\n",
              "    </tr>\n",
              "    <tr>\n",
              "      <th>Exercise 6 - Lasso</th>\n",
              "      <td>0.925882</td>\n",
              "      <td>0.943671</td>\n",
              "    </tr>\n",
              "    <tr>\n",
              "      <th>Exercise 9 - PCA</th>\n",
              "      <td>0.977460</td>\n",
              "      <td>0.994147</td>\n",
              "    </tr>\n",
              "  </tbody>\n",
              "</table>\n",
              "</div>\n",
              "      <button class=\"colab-df-convert\" onclick=\"convertToInteractive('df-ed6c777f-89c3-40db-8ea3-3e1cf7f25129')\"\n",
              "              title=\"Convert this dataframe to an interactive table.\"\n",
              "              style=\"display:none;\">\n",
              "        \n",
              "  <svg xmlns=\"http://www.w3.org/2000/svg\" height=\"24px\"viewBox=\"0 0 24 24\"\n",
              "       width=\"24px\">\n",
              "    <path d=\"M0 0h24v24H0V0z\" fill=\"none\"/>\n",
              "    <path d=\"M18.56 5.44l.94 2.06.94-2.06 2.06-.94-2.06-.94-.94-2.06-.94 2.06-2.06.94zm-11 1L8.5 8.5l.94-2.06 2.06-.94-2.06-.94L8.5 2.5l-.94 2.06-2.06.94zm10 10l.94 2.06.94-2.06 2.06-.94-2.06-.94-.94-2.06-.94 2.06-2.06.94z\"/><path d=\"M17.41 7.96l-1.37-1.37c-.4-.4-.92-.59-1.43-.59-.52 0-1.04.2-1.43.59L10.3 9.45l-7.72 7.72c-.78.78-.78 2.05 0 2.83L4 21.41c.39.39.9.59 1.41.59.51 0 1.02-.2 1.41-.59l7.78-7.78 2.81-2.81c.8-.78.8-2.07 0-2.86zM5.41 20L4 18.59l7.72-7.72 1.47 1.35L5.41 20z\"/>\n",
              "  </svg>\n",
              "      </button>\n",
              "      \n",
              "  <style>\n",
              "    .colab-df-container {\n",
              "      display:flex;\n",
              "      flex-wrap:wrap;\n",
              "      gap: 12px;\n",
              "    }\n",
              "\n",
              "    .colab-df-convert {\n",
              "      background-color: #E8F0FE;\n",
              "      border: none;\n",
              "      border-radius: 50%;\n",
              "      cursor: pointer;\n",
              "      display: none;\n",
              "      fill: #1967D2;\n",
              "      height: 32px;\n",
              "      padding: 0 0 0 0;\n",
              "      width: 32px;\n",
              "    }\n",
              "\n",
              "    .colab-df-convert:hover {\n",
              "      background-color: #E2EBFA;\n",
              "      box-shadow: 0px 1px 2px rgba(60, 64, 67, 0.3), 0px 1px 3px 1px rgba(60, 64, 67, 0.15);\n",
              "      fill: #174EA6;\n",
              "    }\n",
              "\n",
              "    [theme=dark] .colab-df-convert {\n",
              "      background-color: #3B4455;\n",
              "      fill: #D2E3FC;\n",
              "    }\n",
              "\n",
              "    [theme=dark] .colab-df-convert:hover {\n",
              "      background-color: #434B5C;\n",
              "      box-shadow: 0px 1px 3px 1px rgba(0, 0, 0, 0.15);\n",
              "      filter: drop-shadow(0px 1px 2px rgba(0, 0, 0, 0.3));\n",
              "      fill: #FFFFFF;\n",
              "    }\n",
              "  </style>\n",
              "\n",
              "      <script>\n",
              "        const buttonEl =\n",
              "          document.querySelector('#df-ed6c777f-89c3-40db-8ea3-3e1cf7f25129 button.colab-df-convert');\n",
              "        buttonEl.style.display =\n",
              "          google.colab.kernel.accessAllowed ? 'block' : 'none';\n",
              "\n",
              "        async function convertToInteractive(key) {\n",
              "          const element = document.querySelector('#df-ed6c777f-89c3-40db-8ea3-3e1cf7f25129');\n",
              "          const dataTable =\n",
              "            await google.colab.kernel.invokeFunction('convertToInteractive',\n",
              "                                                     [key], {});\n",
              "          if (!dataTable) return;\n",
              "\n",
              "          const docLinkHtml = 'Like what you see? Visit the ' +\n",
              "            '<a target=\"_blank\" href=https://colab.research.google.com/notebooks/data_table.ipynb>data table notebook</a>'\n",
              "            + ' to learn more about interactive tables.';\n",
              "          element.innerHTML = '';\n",
              "          dataTable['output_type'] = 'display_data';\n",
              "          await google.colab.output.renderOutput(dataTable, element);\n",
              "          const docLink = document.createElement('div');\n",
              "          docLink.innerHTML = docLinkHtml;\n",
              "          element.appendChild(docLink);\n",
              "        }\n",
              "      </script>\n",
              "    </div>\n",
              "  </div>\n",
              "  "
            ]
          },
          "metadata": {},
          "execution_count": 51
        }
      ]
    },
    {
      "cell_type": "markdown",
      "metadata": {
        "id": "meKRcJlIxh2B"
      },
      "source": [
        "# **Comparison of the models**"
      ]
    },
    {
      "cell_type": "markdown",
      "metadata": {
        "id": "G3T1V0IixUIC"
      },
      "source": [
        "## **Exercise 10**"
      ]
    },
    {
      "cell_type": "markdown",
      "source": [
        "For comparison, we show the dataframe containing the values of the R2 coefficients that we obtained:"
      ],
      "metadata": {
        "id": "pqnouDurLBoR"
      }
    },
    {
      "cell_type": "code",
      "source": [
        "df_coef"
      ],
      "metadata": {
        "colab": {
          "base_uri": "https://localhost:8080/",
          "height": 237
        },
        "id": "MzLbSBshLJnr",
        "outputId": "6629102a-d923-498b-e534-af2c372547d7"
      },
      "execution_count": null,
      "outputs": [
        {
          "output_type": "execute_result",
          "data": {
            "text/plain": [
              "                                                    R2 values (test)  \\\n",
              "Exercise 1 - Regular OLS                                    0.960055   \n",
              "Exercise 3 - OLS with Variable Selection                    0.127139   \n",
              "Exercise 4 - OLS with sklearn's variable selection          0.127139   \n",
              "Exercise 5 - Ridge                                          0.968269   \n",
              "Exercise 6 - Lasso                                          0.925882   \n",
              "Exercise 9 - PCA                                            0.977460   \n",
              "\n",
              "                                                    R2 values (train)  \n",
              "Exercise 1 - Regular OLS                                     0.995789  \n",
              "Exercise 3 - OLS with Variable Selection                     0.314698  \n",
              "Exercise 4 - OLS with sklearn's variable selection           0.314698  \n",
              "Exercise 5 - Ridge                                           0.992239  \n",
              "Exercise 6 - Lasso                                           0.943671  \n",
              "Exercise 9 - PCA                                             0.994147  "
            ],
            "text/html": [
              "\n",
              "  <div id=\"df-7ea158d5-623d-4b4c-b4a5-949b80c45811\">\n",
              "    <div class=\"colab-df-container\">\n",
              "      <div>\n",
              "<style scoped>\n",
              "    .dataframe tbody tr th:only-of-type {\n",
              "        vertical-align: middle;\n",
              "    }\n",
              "\n",
              "    .dataframe tbody tr th {\n",
              "        vertical-align: top;\n",
              "    }\n",
              "\n",
              "    .dataframe thead th {\n",
              "        text-align: right;\n",
              "    }\n",
              "</style>\n",
              "<table border=\"1\" class=\"dataframe\">\n",
              "  <thead>\n",
              "    <tr style=\"text-align: right;\">\n",
              "      <th></th>\n",
              "      <th>R2 values (test)</th>\n",
              "      <th>R2 values (train)</th>\n",
              "    </tr>\n",
              "  </thead>\n",
              "  <tbody>\n",
              "    <tr>\n",
              "      <th>Exercise 1 - Regular OLS</th>\n",
              "      <td>0.960055</td>\n",
              "      <td>0.995789</td>\n",
              "    </tr>\n",
              "    <tr>\n",
              "      <th>Exercise 3 - OLS with Variable Selection</th>\n",
              "      <td>0.127139</td>\n",
              "      <td>0.314698</td>\n",
              "    </tr>\n",
              "    <tr>\n",
              "      <th>Exercise 4 - OLS with sklearn's variable selection</th>\n",
              "      <td>0.127139</td>\n",
              "      <td>0.314698</td>\n",
              "    </tr>\n",
              "    <tr>\n",
              "      <th>Exercise 5 - Ridge</th>\n",
              "      <td>0.968269</td>\n",
              "      <td>0.992239</td>\n",
              "    </tr>\n",
              "    <tr>\n",
              "      <th>Exercise 6 - Lasso</th>\n",
              "      <td>0.925882</td>\n",
              "      <td>0.943671</td>\n",
              "    </tr>\n",
              "    <tr>\n",
              "      <th>Exercise 9 - PCA</th>\n",
              "      <td>0.977460</td>\n",
              "      <td>0.994147</td>\n",
              "    </tr>\n",
              "  </tbody>\n",
              "</table>\n",
              "</div>\n",
              "      <button class=\"colab-df-convert\" onclick=\"convertToInteractive('df-7ea158d5-623d-4b4c-b4a5-949b80c45811')\"\n",
              "              title=\"Convert this dataframe to an interactive table.\"\n",
              "              style=\"display:none;\">\n",
              "        \n",
              "  <svg xmlns=\"http://www.w3.org/2000/svg\" height=\"24px\"viewBox=\"0 0 24 24\"\n",
              "       width=\"24px\">\n",
              "    <path d=\"M0 0h24v24H0V0z\" fill=\"none\"/>\n",
              "    <path d=\"M18.56 5.44l.94 2.06.94-2.06 2.06-.94-2.06-.94-.94-2.06-.94 2.06-2.06.94zm-11 1L8.5 8.5l.94-2.06 2.06-.94-2.06-.94L8.5 2.5l-.94 2.06-2.06.94zm10 10l.94 2.06.94-2.06 2.06-.94-2.06-.94-.94-2.06-.94 2.06-2.06.94z\"/><path d=\"M17.41 7.96l-1.37-1.37c-.4-.4-.92-.59-1.43-.59-.52 0-1.04.2-1.43.59L10.3 9.45l-7.72 7.72c-.78.78-.78 2.05 0 2.83L4 21.41c.39.39.9.59 1.41.59.51 0 1.02-.2 1.41-.59l7.78-7.78 2.81-2.81c.8-.78.8-2.07 0-2.86zM5.41 20L4 18.59l7.72-7.72 1.47 1.35L5.41 20z\"/>\n",
              "  </svg>\n",
              "      </button>\n",
              "      \n",
              "  <style>\n",
              "    .colab-df-container {\n",
              "      display:flex;\n",
              "      flex-wrap:wrap;\n",
              "      gap: 12px;\n",
              "    }\n",
              "\n",
              "    .colab-df-convert {\n",
              "      background-color: #E8F0FE;\n",
              "      border: none;\n",
              "      border-radius: 50%;\n",
              "      cursor: pointer;\n",
              "      display: none;\n",
              "      fill: #1967D2;\n",
              "      height: 32px;\n",
              "      padding: 0 0 0 0;\n",
              "      width: 32px;\n",
              "    }\n",
              "\n",
              "    .colab-df-convert:hover {\n",
              "      background-color: #E2EBFA;\n",
              "      box-shadow: 0px 1px 2px rgba(60, 64, 67, 0.3), 0px 1px 3px 1px rgba(60, 64, 67, 0.15);\n",
              "      fill: #174EA6;\n",
              "    }\n",
              "\n",
              "    [theme=dark] .colab-df-convert {\n",
              "      background-color: #3B4455;\n",
              "      fill: #D2E3FC;\n",
              "    }\n",
              "\n",
              "    [theme=dark] .colab-df-convert:hover {\n",
              "      background-color: #434B5C;\n",
              "      box-shadow: 0px 1px 3px 1px rgba(0, 0, 0, 0.15);\n",
              "      filter: drop-shadow(0px 1px 2px rgba(0, 0, 0, 0.3));\n",
              "      fill: #FFFFFF;\n",
              "    }\n",
              "  </style>\n",
              "\n",
              "      <script>\n",
              "        const buttonEl =\n",
              "          document.querySelector('#df-7ea158d5-623d-4b4c-b4a5-949b80c45811 button.colab-df-convert');\n",
              "        buttonEl.style.display =\n",
              "          google.colab.kernel.accessAllowed ? 'block' : 'none';\n",
              "\n",
              "        async function convertToInteractive(key) {\n",
              "          const element = document.querySelector('#df-7ea158d5-623d-4b4c-b4a5-949b80c45811');\n",
              "          const dataTable =\n",
              "            await google.colab.kernel.invokeFunction('convertToInteractive',\n",
              "                                                     [key], {});\n",
              "          if (!dataTable) return;\n",
              "\n",
              "          const docLinkHtml = 'Like what you see? Visit the ' +\n",
              "            '<a target=\"_blank\" href=https://colab.research.google.com/notebooks/data_table.ipynb>data table notebook</a>'\n",
              "            + ' to learn more about interactive tables.';\n",
              "          element.innerHTML = '';\n",
              "          dataTable['output_type'] = 'display_data';\n",
              "          await google.colab.output.renderOutput(dataTable, element);\n",
              "          const docLink = document.createElement('div');\n",
              "          docLink.innerHTML = docLinkHtml;\n",
              "          element.appendChild(docLink);\n",
              "        }\n",
              "      </script>\n",
              "    </div>\n",
              "  </div>\n",
              "  "
            ]
          },
          "metadata": {},
          "execution_count": 52
        }
      ]
    },
    {
      "cell_type": "markdown",
      "source": [
        "We will analyse the values of the R2 coefficient that were obtained using the test set.\n",
        "\n",
        "We can notice that the model that provided the best value of the determination coefficient was the PCA model.\n",
        "\n",
        "The Lasso model did not provide the best R2 value. This is due to the fact that we had to choose a tolerance large enough, in order to have a convergence in a raisonnable time.\n",
        "\n",
        "We can notice that the worst value of R2 was obtained using the models from the Exercises 3 and 4 (models obtained after running variable selection on the features). This is due to the fact, for those two models, only one covariate (``V41``) was considered to fit the regression.\n",
        "\n",
        "On the other hand, the Ridge model provided a better R2 value than the one from the Exercise 1. This is due to the influence of the regularization.\n",
        "\n"
      ],
      "metadata": {
        "id": "6hVXcUBOLJQx"
      }
    },
    {
      "cell_type": "code",
      "source": [],
      "metadata": {
        "id": "7xlBmi9-Otof"
      },
      "execution_count": null,
      "outputs": []
    }
  ],
  "metadata": {
    "colab": {
      "provenance": []
    },
    "kernelspec": {
      "display_name": "Python 3",
      "name": "python3"
    },
    "language_info": {
      "name": "python"
    }
  },
  "nbformat": 4,
  "nbformat_minor": 0
}